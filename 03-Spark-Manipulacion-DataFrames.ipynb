{
 "cells": [
  {
   "cell_type": "code",
   "execution_count": 1,
   "id": "d5106a75",
   "metadata": {},
   "outputs": [],
   "source": [
    "##########################################################################################################\n",
    "# VERSION  \tDESARROLLADOR             FECHA        DESCRIPCION\n",
    "# -------------------------------------------------------------\n",
    "#  1        Walter Albites Azarte     29/11/2022   Curso PySpark Entorno Local - Dataframe\n",
    "##########################################################################################################"
   ]
  },
  {
   "cell_type": "code",
   "execution_count": 2,
   "id": "76caa7d1",
   "metadata": {},
   "outputs": [
    {
     "data": {
      "text/plain": [
       "'C:\\\\spark-3.1.2-bin-hadoop2.7'"
      ]
     },
     "execution_count": 2,
     "metadata": {},
     "output_type": "execute_result"
    }
   ],
   "source": [
    "import findspark\n",
    "findspark.init()\n",
    "findspark.find()"
   ]
  },
  {
   "cell_type": "code",
   "execution_count": 3,
   "id": "a7d245db",
   "metadata": {},
   "outputs": [],
   "source": [
    "import pyspark\n",
    "from pyspark import SparkContext, SparkConf\n",
    "from pyspark.sql import SparkSession\n",
    "conf= pyspark.SparkConf().setAppName('SparkApp').setMaster('local')\n",
    "sc = pyspark.SparkContext(conf=conf)\n",
    "spark=SparkSession(sc)"
   ]
  },
  {
   "cell_type": "code",
   "execution_count": 4,
   "id": "7457b03c",
   "metadata": {},
   "outputs": [],
   "source": [
    "from pyspark.sql.types import *\n",
    "from pyspark.sql.functions import *\n",
    "from pyspark.sql.window import Window"
   ]
  },
  {
   "cell_type": "code",
   "execution_count": 5,
   "id": "ac3a0562",
   "metadata": {},
   "outputs": [
    {
     "name": "stdout",
     "output_type": "stream",
     "text": [
      "+--------------------------+----------------------------------------+---------------------------------------------------------------------------------+\n",
      "|LICENCIAMIENTO            |UNIVERSIDAD                             |CARRERAS                                                                         |\n",
      "+--------------------------+----------------------------------------+---------------------------------------------------------------------------------+\n",
      "|Res. N° 036-2018-SUNEDU/CD|Universidad Nacional Mayor de San Marcos|Derecho##Medicina##Licenciatura                                                  |\n",
      "|Res. N° 073-2017-SUNEDU/CD|Universidad Nacional de Ingeniería      |Ingenieria Sistemas##Ingenieria Civil##Ingenieria de Minas##Ingenieria Industrial|\n",
      "+--------------------------+----------------------------------------+---------------------------------------------------------------------------------+\n",
      "\n"
     ]
    }
   ],
   "source": [
    "#Crear Dataframe Spark Universidades\n",
    "schemaUniversidad = StructType([\n",
    "    StructField(\"LICENCIAMIENTO\", StringType(),True),\n",
    "    StructField(\"UNIVERSIDAD\", StringType(),True),\n",
    "    StructField(\"CARRERAS\", StringType(),True)\n",
    "])\n",
    "\n",
    "dataUniversidad = ([\n",
    "                (\"Res. N° 036-2018-SUNEDU/CD\",\"Universidad Nacional Mayor de San Marcos\",\"Derecho##Medicina##Licenciatura\"),\n",
    "                (\"Res. N° 073-2017-SUNEDU/CD\",\"Universidad Nacional de Ingeniería\",\"Ingenieria Sistemas##Ingenieria Civil##Ingenieria de Minas##Ingenieria Industrial\")\n",
    "               ])\n",
    "\n",
    "df_universidad=spark.createDataFrame(dataUniversidad,schema=schemaUniversidad)\n",
    "df_universidad.show(5,False)"
   ]
  },
  {
   "cell_type": "code",
   "execution_count": 6,
   "id": "b1ef92de",
   "metadata": {},
   "outputs": [
    {
     "name": "stdout",
     "output_type": "stream",
     "text": [
      "+--------------------------+----------------------------------------+---------------------+\n",
      "|LICENCIAMIENTO            |UNIVERSIDAD                             |CARRERA              |\n",
      "+--------------------------+----------------------------------------+---------------------+\n",
      "|Res. N° 036-2018-SUNEDU/CD|Universidad Nacional Mayor de San Marcos|Derecho              |\n",
      "|Res. N° 036-2018-SUNEDU/CD|Universidad Nacional Mayor de San Marcos|Medicina             |\n",
      "|Res. N° 036-2018-SUNEDU/CD|Universidad Nacional Mayor de San Marcos|Licenciatura         |\n",
      "|Res. N° 073-2017-SUNEDU/CD|Universidad Nacional de Ingeniería      |Ingenieria Sistemas  |\n",
      "|Res. N° 073-2017-SUNEDU/CD|Universidad Nacional de Ingeniería      |Ingenieria Civil     |\n",
      "|Res. N° 073-2017-SUNEDU/CD|Universidad Nacional de Ingeniería      |Ingenieria de Minas  |\n",
      "|Res. N° 073-2017-SUNEDU/CD|Universidad Nacional de Ingeniería      |Ingenieria Industrial|\n",
      "+--------------------------+----------------------------------------+---------------------+\n",
      "\n"
     ]
    }
   ],
   "source": [
    "#explode\n",
    "df_universidad_carrera=df_universidad.select('*',\n",
    "                      explode(split(col('CARRERAS'),'##')).alias('CARRERA')\n",
    "                     ).drop('CARRERAS')\n",
    "\n",
    "df_universidad_carrera.show(20,False)"
   ]
  },
  {
   "cell_type": "code",
   "execution_count": 7,
   "id": "7ad24f5e",
   "metadata": {},
   "outputs": [],
   "source": [
    "#Funcion exportacion a CSV\n",
    "import os\n",
    "import shutil\n",
    "def write_df(spark, flag_csv, df, root_path, output_name):\n",
    "    if flag_csv:\n",
    "        df.coalesce(1).write.mode('overwrite').option('header', 'true').option('delimiter', ';').option('encoding', 'UTF-8').csv(root_path + output_name + '_csv')\n",
    "        fs = spark._jvm.org.apache.hadoop.fs.FileSystem.get(spark._jsc.hadoopConfiguration())\n",
    "        list_status = fs.listStatus(spark._jvm.org.apache.hadoop.fs.Path(root_path + output_name + '_csv'))\n",
    "        file_name = [file.getPath().getName() for file in list_status if file.getPath().getName().startswith('part-')][0]\n",
    "        file = root_path + output_name + '_csv' + '/' + file_name\n",
    "        file_new = root_path + output_name + \".csv\"\n",
    "        try:\n",
    "            os.rename(file, file_new)\n",
    "        except FileExistsError:\n",
    "            os.remove(file_new)\n",
    "            os.rename(file, file_new)\n",
    "        shutil.rmtree(root_path + output_name + '_csv')\n",
    "    df.write.mode(\"overwrite\").parquet(root_path + output_name)\n",
    "    return df"
   ]
  },
  {
   "cell_type": "code",
   "execution_count": 8,
   "id": "6f902073",
   "metadata": {},
   "outputs": [],
   "source": [
    "#Exportacion a CSV\n",
    "flag_csv = True\n",
    "Ruta_Output_csv = 'C:/Users/walbi/Documents/'\n",
    "#Exportacion a CSV con Funcion\n",
    "df = write_df(\n",
    "    spark,\n",
    "    flag_csv,\n",
    "    df_universidad_carrera,\n",
    "    Ruta_Output_csv,\n",
    "    'df_universidad_carrera'\n",
    ")"
   ]
  },
  {
   "cell_type": "code",
   "execution_count": 9,
   "id": "9eb699e5",
   "metadata": {},
   "outputs": [
    {
     "name": "stdout",
     "output_type": "stream",
     "text": [
      "+--------------------+--------------------+--------------------+\n",
      "|      LICENCIAMIENTO|         UNIVERSIDAD|             CARRERA|\n",
      "+--------------------+--------------------+--------------------+\n",
      "|Res. N° 036-2018-...|Universidad Nacio...|             Derecho|\n",
      "|Res. N° 036-2018-...|Universidad Nacio...|            Medicina|\n",
      "|Res. N° 036-2018-...|Universidad Nacio...|        Licenciatura|\n",
      "|Res. N° 073-2017-...|Universidad Nacio...| Ingenieria Sistemas|\n",
      "|Res. N° 073-2017-...|Universidad Nacio...|    Ingenieria Civil|\n",
      "|Res. N° 073-2017-...|Universidad Nacio...| Ingenieria de Minas|\n",
      "|Res. N° 073-2017-...|Universidad Nacio...|Ingenieria Indust...|\n",
      "+--------------------+--------------------+--------------------+\n",
      "\n"
     ]
    }
   ],
   "source": [
    "#Leer un csv correctamente\n",
    "df_universidadades_lectura = spark.read.options(header='True',inferSchema='True',delimiter=';',escape='\"',quote='\"',multiLine=True).\\\n",
    "csv(Ruta_Output_csv + 'df_universidad_carrera.csv')\n",
    "df_universidadades_lectura.show()"
   ]
  },
  {
   "cell_type": "code",
   "execution_count": 10,
   "id": "1834ba88",
   "metadata": {},
   "outputs": [],
   "source": [
    "#Funcion Autoincrement\n",
    "def add_identify (\n",
    "    inputDF,\n",
    "    column_identify_name=\"Id\",\n",
    "    identity_start=0\n",
    "):\n",
    "    rpt = inputDF.withColumn(\n",
    "        'monotonically_increasing_id',\n",
    "        monotonically_increasing_id()\n",
    "    )\n",
    "    rpt = rpt.withColumn(\n",
    "        column_identify_name,\n",
    "        row_number().over(\n",
    "            Window.orderBy(col('monotonically_increasing_id'))\n",
    "        )\n",
    "    )\n",
    "    if (identity_start != 0):\n",
    "        rpt = rpt.withColumn(column_identify_name, col(column_identify_name) + identity_start)\n",
    "    return rpt.select( [column_identify_name] + inputDF.columns )"
   ]
  },
  {
   "cell_type": "code",
   "execution_count": 11,
   "id": "75c15c3a",
   "metadata": {},
   "outputs": [
    {
     "name": "stdout",
     "output_type": "stream",
     "text": [
      "+---+--------------------+--------------------+--------------------+\n",
      "| ID|      LICENCIAMIENTO|         UNIVERSIDAD|             CARRERA|\n",
      "+---+--------------------+--------------------+--------------------+\n",
      "|  1|Res. N° 036-2018-...|Universidad Nacio...|             Derecho|\n",
      "|  2|Res. N° 036-2018-...|Universidad Nacio...|            Medicina|\n",
      "|  3|Res. N° 036-2018-...|Universidad Nacio...|        Licenciatura|\n",
      "|  4|Res. N° 073-2017-...|Universidad Nacio...| Ingenieria Sistemas|\n",
      "|  5|Res. N° 073-2017-...|Universidad Nacio...|    Ingenieria Civil|\n",
      "|  6|Res. N° 073-2017-...|Universidad Nacio...| Ingenieria de Minas|\n",
      "|  7|Res. N° 073-2017-...|Universidad Nacio...|Ingenieria Indust...|\n",
      "+---+--------------------+--------------------+--------------------+\n",
      "\n"
     ]
    }
   ],
   "source": [
    "df_universidadades_identify = add_identify(df_universidad_carrera,'ID',0)\n",
    "df_universidadades_identify.show()"
   ]
  }
 ],
 "metadata": {
  "kernelspec": {
   "display_name": "Python 3 (ipykernel)",
   "language": "python",
   "name": "python3"
  },
  "language_info": {
   "codemirror_mode": {
    "name": "ipython",
    "version": 3
   },
   "file_extension": ".py",
   "mimetype": "text/x-python",
   "name": "python",
   "nbconvert_exporter": "python",
   "pygments_lexer": "ipython3",
   "version": "3.9.7"
  }
 },
 "nbformat": 4,
 "nbformat_minor": 5
}
