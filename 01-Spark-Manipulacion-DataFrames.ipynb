{
 "cells": [
  {
   "cell_type": "code",
   "execution_count": 1,
   "id": "d5106a75",
   "metadata": {},
   "outputs": [],
   "source": [
    "##########################################################################################################\n",
    "# VERSION  \tDESARROLLADOR             FECHA        DESCRIPCION\n",
    "# -------------------------------------------------------------\n",
    "#  1        Walter Albites Azarte     10/12/2021   Curso PySpark Entorno Local - Dataframe\n",
    "##########################################################################################################"
   ]
  },
  {
   "cell_type": "code",
   "execution_count": 2,
   "id": "76caa7d1",
   "metadata": {},
   "outputs": [
    {
     "data": {
      "text/plain": [
       "'C:\\\\spark-3.1.2-bin-hadoop2.7'"
      ]
     },
     "execution_count": 2,
     "metadata": {},
     "output_type": "execute_result"
    }
   ],
   "source": [
    "import findspark\n",
    "findspark.init()\n",
    "findspark.find()"
   ]
  },
  {
   "cell_type": "code",
   "execution_count": 3,
   "id": "a7d245db",
   "metadata": {},
   "outputs": [],
   "source": [
    "import pyspark\n",
    "from pyspark import SparkContext, SparkConf\n",
    "from pyspark.sql import SparkSession\n",
    "conf= pyspark.SparkConf().setAppName('SparkApp').setMaster('local')\n",
    "sc = pyspark.SparkContext(conf=conf)\n",
    "spark=SparkSession(sc)"
   ]
  },
  {
   "cell_type": "code",
   "execution_count": 4,
   "id": "7457b03c",
   "metadata": {},
   "outputs": [],
   "source": [
    "from pyspark.sql.types import *\n",
    "from pyspark.sql.functions import *\n",
    "from pyspark.sql.window import Window"
   ]
  },
  {
   "cell_type": "code",
   "execution_count": 5,
   "id": "f415a57a",
   "metadata": {},
   "outputs": [
    {
     "name": "stdout",
     "output_type": "stream",
     "text": [
      "+--------+---------+----+\n",
      "|     dni|   nombre|edad|\n",
      "+--------+---------+----+\n",
      "|99999999|   Walter|  35|\n",
      "|88888888|    Susan|  30|\n",
      "|77777777|Alejandro|  12|\n",
      "+--------+---------+----+\n",
      "\n",
      "+--------+------+------+\n",
      "|     dni| curso|precio|\n",
      "+--------+------+------+\n",
      "|99999999| Spark| 100.5|\n",
      "|99999999| Scala| 100.5|\n",
      "|99999999|  Java| 100.5|\n",
      "|88888888|Ingles|  80.9|\n",
      "|77777777|  Java|  12.5|\n",
      "+--------+------+------+\n",
      "\n"
     ]
    }
   ],
   "source": [
    "#Crear Dataframe Spark personas\n",
    "schemaPersona = StructType([\n",
    "    StructField(\"dni\", StringType(),True),\n",
    "    StructField(\"nombre\", StringType(),True),\n",
    "    StructField(\"edad\", IntegerType(),True)\n",
    "])\n",
    "\n",
    "dataPersona = ([(\"99999999\", \"Walter\",35),\n",
    "                (\"88888888\", \"Susan\",30),\n",
    "                (\"77777777\", \"Alejandro\",12)\n",
    "               ])\n",
    "\n",
    "df_personas=spark.createDataFrame(dataPersona,schema=schemaPersona)\n",
    "df_personas.show()\n",
    "\n",
    "#Crear Dataframe Spark Cursos\n",
    "schemaCursos = StructType([\n",
    "    StructField(\"dni\", StringType(),True),\n",
    "    StructField(\"curso\", StringType(),True),\n",
    "    StructField(\"precio\", DoubleType(),True)\n",
    "])\n",
    "\n",
    "dataCurso = ([(\"99999999\", \"Spark\",100.50),\n",
    "              (\"99999999\", \"Scala\",100.50),\n",
    "              (\"99999999\", \"Java\",100.50),\n",
    "              (\"88888888\", \"Ingles\",80.90),\n",
    "              (\"77777777\", \"Java\",12.50)\n",
    "])\n",
    "\n",
    "df_cursos=spark.createDataFrame(dataCurso,schema=schemaCursos)\n",
    "df_cursos.show()\n"
   ]
  },
  {
   "cell_type": "code",
   "execution_count": 6,
   "id": "944bb1a7",
   "metadata": {},
   "outputs": [
    {
     "data": {
      "text/plain": [
       "3"
      ]
     },
     "execution_count": 6,
     "metadata": {},
     "output_type": "execute_result"
    }
   ],
   "source": [
    "# Conteo de Registros\n",
    "df_personas.count()"
   ]
  },
  {
   "cell_type": "code",
   "execution_count": 7,
   "id": "2d603c5f",
   "metadata": {},
   "outputs": [
    {
     "name": "stdout",
     "output_type": "stream",
     "text": [
      "+--------+---------+\n",
      "|     dni|   nombre|\n",
      "+--------+---------+\n",
      "|99999999|   Walter|\n",
      "|88888888|    Susan|\n",
      "|77777777|Alejandro|\n",
      "+--------+---------+\n",
      "\n"
     ]
    }
   ],
   "source": [
    "#Seleccionar campos\n",
    "df_personasx=df_personas.select('dni','nombre')\n",
    "df_personasx.show()"
   ]
  },
  {
   "cell_type": "code",
   "execution_count": 8,
   "id": "cfac6787",
   "metadata": {},
   "outputs": [
    {
     "name": "stdout",
     "output_type": "stream",
     "text": [
      "+--------+---------+----+----+\n",
      "|     dni|   nombre|edad|pais|\n",
      "+--------+---------+----+----+\n",
      "|99999999|   Walter|  35|Perú|\n",
      "|88888888|    Susan|  30|Perú|\n",
      "|77777777|Alejandro|  12|Perú|\n",
      "+--------+---------+----+----+\n",
      "\n"
     ]
    }
   ],
   "source": [
    "#Adicionar columnas y agregar el valor Perú\n",
    "df_personasx=df_personas.withColumn('pais',lit(\"Perú\"))\n",
    "df_personasx.show()"
   ]
  },
  {
   "cell_type": "code",
   "execution_count": 9,
   "id": "ec909eff",
   "metadata": {},
   "outputs": [
    {
     "name": "stdout",
     "output_type": "stream",
     "text": [
      "+--------+---------+----+----+--------------+\n",
      "|     dni|   nombre|edad|pais|   nombre_pais|\n",
      "+--------+---------+----+----+--------------+\n",
      "|99999999|   Walter|  35|Perú|   Perú Walter|\n",
      "|88888888|    Susan|  30|Perú|    Perú Susan|\n",
      "|77777777|Alejandro|  12|Perú|Perú Alejandro|\n",
      "+--------+---------+----+----+--------------+\n",
      "\n"
     ]
    }
   ],
   "source": [
    "#Concatenar nombre y pais\n",
    "df_personasx=df_personasx.withColumn('nombre_pais',concat(col(\"pais\"),lit(\" \"),col(\"nombre\")))\n",
    "df_personasx.show()"
   ]
  },
  {
   "cell_type": "code",
   "execution_count": 10,
   "id": "e4069c62",
   "metadata": {},
   "outputs": [
    {
     "name": "stdout",
     "output_type": "stream",
     "text": [
      "+--------+---------+----+----+--------------+-----+\n",
      "|     dni|   nombre|edad|pais|   nombre_pais|paisx|\n",
      "+--------+---------+----+----+--------------+-----+\n",
      "|99999999|   Walter|  35|Perú|   Perú Walter| Perú|\n",
      "|88888888|    Susan|  30|Perú|    Perú Susan| Perú|\n",
      "|77777777|Alejandro|  12|Perú|Perú Alejandro| Perú|\n",
      "+--------+---------+----+----+--------------+-----+\n",
      "\n"
     ]
    }
   ],
   "source": [
    "#Substring extraer los cuatro digitos de nombre_pais\n",
    "df_personasx=df_personasx.withColumn('paisx',col(\"nombre_pais\").substr(1,4))\n",
    "df_personasx.show()\n"
   ]
  },
  {
   "cell_type": "code",
   "execution_count": 11,
   "id": "8e94e26a",
   "metadata": {},
   "outputs": [],
   "source": [
    "#Spark filter() o where() se usa para filtrar las filas de DataFrame o Dataset en función de una o varias condiciones"
   ]
  },
  {
   "cell_type": "code",
   "execution_count": 12,
   "id": "840f04c0",
   "metadata": {},
   "outputs": [
    {
     "name": "stdout",
     "output_type": "stream",
     "text": [
      "+--------+------+----+\n",
      "|     dni|nombre|edad|\n",
      "+--------+------+----+\n",
      "|99999999|Walter|  35|\n",
      "|88888888| Susan|  30|\n",
      "+--------+------+----+\n",
      "\n"
     ]
    }
   ],
   "source": [
    "#Filtrar con una condicion\n",
    "df_personasx=df_personas.filter(col(\"edad\")>=30)\n",
    "df_personasx.show()"
   ]
  },
  {
   "cell_type": "code",
   "execution_count": 13,
   "id": "85e050de",
   "metadata": {},
   "outputs": [
    {
     "name": "stdout",
     "output_type": "stream",
     "text": [
      "+--------+------+----+\n",
      "|     dni|nombre|edad|\n",
      "+--------+------+----+\n",
      "|99999999|Walter|  35|\n",
      "+--------+------+----+\n",
      "\n"
     ]
    }
   ],
   "source": [
    "#Filtrar con dos condiciones and \n",
    "df_personasx=df_personas.filter((col(\"edad\")>=30) & (col(\"nombre\")==\"Walter\"))\n",
    "df_personasx.show()"
   ]
  },
  {
   "cell_type": "code",
   "execution_count": 14,
   "id": "2e63c8eb",
   "metadata": {},
   "outputs": [
    {
     "name": "stdout",
     "output_type": "stream",
     "text": [
      "+--------+---------+----+\n",
      "|     dni|   nombre|edad|\n",
      "+--------+---------+----+\n",
      "|99999999|   Walter|  35|\n",
      "|77777777|Alejandro|  12|\n",
      "+--------+---------+----+\n",
      "\n"
     ]
    }
   ],
   "source": [
    "#Filtrar con dos condiciones or \n",
    "df_personasx=df_personas.filter((col(\"nombre\")==\"Alejandro\") | (col(\"nombre\")==\"Walter\"))\n",
    "df_personasx.show()"
   ]
  },
  {
   "cell_type": "code",
   "execution_count": 15,
   "id": "aa46c94b",
   "metadata": {},
   "outputs": [
    {
     "name": "stdout",
     "output_type": "stream",
     "text": [
      "+--------+------+----+\n",
      "|     dni|nombre|edad|\n",
      "+--------+------+----+\n",
      "|99999999|Walter|  35|\n",
      "|88888888| Susan|  30|\n",
      "+--------+------+----+\n",
      "\n"
     ]
    }
   ],
   "source": [
    "#Where con una condicion\n",
    "df_personasx=df_personas.where(col(\"edad\")>=30)\n",
    "df_personasx.show()"
   ]
  },
  {
   "cell_type": "code",
   "execution_count": 16,
   "id": "2698e7fb",
   "metadata": {},
   "outputs": [
    {
     "name": "stdout",
     "output_type": "stream",
     "text": [
      "root\n",
      " |-- dni: string (nullable = true)\n",
      " |-- nombre: string (nullable = true)\n",
      " |-- edad: integer (nullable = true)\n",
      "\n"
     ]
    }
   ],
   "source": [
    "df_personas.printSchema()"
   ]
  },
  {
   "cell_type": "code",
   "execution_count": 17,
   "id": "60eea880",
   "metadata": {},
   "outputs": [],
   "source": [
    "# Cambiar tipos de datos de Integer a String en una nueva columna\n",
    "df_personasx = df_personas.withColumn(\"age\",col(\"edad\").cast(StringType()))"
   ]
  },
  {
   "cell_type": "code",
   "execution_count": 18,
   "id": "f4181fc5",
   "metadata": {},
   "outputs": [
    {
     "name": "stdout",
     "output_type": "stream",
     "text": [
      "root\n",
      " |-- dni: string (nullable = true)\n",
      " |-- nombre: string (nullable = true)\n",
      " |-- edad: integer (nullable = true)\n",
      " |-- age: string (nullable = true)\n",
      "\n",
      "+--------+---------+----+---+\n",
      "|     dni|   nombre|edad|age|\n",
      "+--------+---------+----+---+\n",
      "|99999999|   Walter|  35| 35|\n",
      "|88888888|    Susan|  30| 30|\n",
      "|77777777|Alejandro|  12| 12|\n",
      "+--------+---------+----+---+\n",
      "\n"
     ]
    }
   ],
   "source": [
    "df_personasx.printSchema()\n",
    "df_personasx.show()"
   ]
  },
  {
   "cell_type": "code",
   "execution_count": 19,
   "id": "3f50a06c",
   "metadata": {},
   "outputs": [
    {
     "name": "stdout",
     "output_type": "stream",
     "text": [
      "+--------+------+------+\n",
      "|     dni| curso|precio|\n",
      "+--------+------+------+\n",
      "|99999999| Spark| 100.5|\n",
      "|99999999| Scala| 100.5|\n",
      "|99999999|  Java| 100.5|\n",
      "|88888888|Ingles|  80.9|\n",
      "|77777777|  Java|  12.5|\n",
      "+--------+------+------+\n",
      "\n",
      "+------+-----+\n",
      "|precio|count|\n",
      "+------+-----+\n",
      "|  80.9|    1|\n",
      "|  12.5|    1|\n",
      "| 100.5|    3|\n",
      "+------+-----+\n",
      "\n"
     ]
    }
   ],
   "source": [
    "# Agrupamiento contar registros\n",
    "df_cursos.show()\n",
    "df_cursos.groupBy(\"precio\").count().show()"
   ]
  },
  {
   "cell_type": "code",
   "execution_count": 20,
   "id": "225ed1aa",
   "metadata": {},
   "outputs": [
    {
     "name": "stdout",
     "output_type": "stream",
     "text": [
      "+------+-----------+\n",
      "|precio|sum(precio)|\n",
      "+------+-----------+\n",
      "|  80.9|       80.9|\n",
      "|  12.5|       12.5|\n",
      "| 100.5|      301.5|\n",
      "+------+-----------+\n",
      "\n"
     ]
    }
   ],
   "source": [
    "# Agrupamiento sumar\n",
    "df_cursos.groupBy(\"precio\").sum().show()"
   ]
  },
  {
   "cell_type": "code",
   "execution_count": 21,
   "id": "bd76dc6d",
   "metadata": {},
   "outputs": [
    {
     "name": "stdout",
     "output_type": "stream",
     "text": [
      "+------+----------+----------+----------+\n",
      "| curso|sum_precio|avg_precio|max_precio|\n",
      "+------+----------+----------+----------+\n",
      "|Ingles|      80.9|      80.9|      80.9|\n",
      "| Scala|     100.5|     100.5|     100.5|\n",
      "| Spark|     100.5|     100.5|     100.5|\n",
      "|  Java|     113.0|      56.5|     100.5|\n",
      "+------+----------+----------+----------+\n",
      "\n"
     ]
    }
   ],
   "source": [
    "df_cursos.groupBy(\"curso\")\\\n",
    ".agg(sum(\"precio\").alias(\"sum_precio\"), \\\n",
    "         avg(\"precio\").alias(\"avg_precio\"), \\\n",
    "         max(\"precio\").alias(\"max_precio\") \\\n",
    "     ) \\\n",
    "    .show()"
   ]
  },
  {
   "cell_type": "code",
   "execution_count": 22,
   "id": "9f9ce66b",
   "metadata": {},
   "outputs": [],
   "source": [
    "# Case when múltiples condiciones\n",
    "df_cursosx=df_cursos.withColumn(\"categoria\",when((col(\"curso\")==\"Scala\") | (col(\"curso\")==\"Spark\"),\"Data\")\n",
    "                     .when(col(\"curso\")==\"Java\",\"Back End\")\n",
    "                     .otherwise(\"Otro\")\n",
    "                    )"
   ]
  },
  {
   "cell_type": "code",
   "execution_count": 23,
   "id": "6b051448",
   "metadata": {},
   "outputs": [
    {
     "name": "stdout",
     "output_type": "stream",
     "text": [
      "+--------+------+------+---------+\n",
      "|     dni| curso|precio|categoria|\n",
      "+--------+------+------+---------+\n",
      "|99999999| Spark| 100.5|     Data|\n",
      "|99999999| Scala| 100.5|     Data|\n",
      "|99999999|  Java| 100.5| Back End|\n",
      "|88888888|Ingles|  80.9|     Otro|\n",
      "|77777777|  Java|  12.5| Back End|\n",
      "+--------+------+------+---------+\n",
      "\n"
     ]
    }
   ],
   "source": [
    "df_cursosx.show()"
   ]
  },
  {
   "cell_type": "code",
   "execution_count": 24,
   "id": "f9db8883",
   "metadata": {},
   "outputs": [],
   "source": [
    "#join personas cursos how='right', how='left',how='inner'\n",
    "df_personas_with_df_cursos=df_personas.alias(\"a\").join(df_cursos.alias(\"b\"),col(\"a.dni\")==col(\"b.dni\"),how='inner')"
   ]
  },
  {
   "cell_type": "code",
   "execution_count": 25,
   "id": "3a58a01d",
   "metadata": {},
   "outputs": [
    {
     "name": "stdout",
     "output_type": "stream",
     "text": [
      "+--------+---------+----+--------+------+------+\n",
      "|     dni|   nombre|edad|     dni| curso|precio|\n",
      "+--------+---------+----+--------+------+------+\n",
      "|88888888|    Susan|  30|88888888|Ingles|  80.9|\n",
      "|99999999|   Walter|  35|99999999| Spark| 100.5|\n",
      "|99999999|   Walter|  35|99999999| Scala| 100.5|\n",
      "|99999999|   Walter|  35|99999999|  Java| 100.5|\n",
      "|77777777|Alejandro|  12|77777777|  Java|  12.5|\n",
      "+--------+---------+----+--------+------+------+\n",
      "\n"
     ]
    }
   ],
   "source": [
    "df_personas_with_df_cursos.show()"
   ]
  },
  {
   "cell_type": "code",
   "execution_count": 26,
   "id": "042b6656",
   "metadata": {},
   "outputs": [
    {
     "name": "stdout",
     "output_type": "stream",
     "text": [
      "+--------+---------+----+------+------+\n",
      "|     dni|   nombre|edad| curso|precio|\n",
      "+--------+---------+----+------+------+\n",
      "|88888888|    Susan|  30|Ingles|  80.9|\n",
      "|99999999|   Walter|  35| Spark| 100.5|\n",
      "|99999999|   Walter|  35| Scala| 100.5|\n",
      "|99999999|   Walter|  35|  Java| 100.5|\n",
      "|77777777|Alejandro|  12|  Java|  12.5|\n",
      "+--------+---------+----+------+------+\n",
      "\n"
     ]
    }
   ],
   "source": [
    "#eliminar columna para que se pueda escribir y no muestre el error de  columnas duplicadas\n",
    "df_personas_with_df_cursos=df_personas_with_df_cursos.drop(col(\"b.dni\"))\n",
    "df_personas_with_df_cursos.show()"
   ]
  },
  {
   "cell_type": "code",
   "execution_count": null,
   "id": "b8fe293a",
   "metadata": {},
   "outputs": [],
   "source": [
    "# Escribir guardar dataframe \n",
    "df_personas_with_df_cursos.write.format(\"csv\").mode(\"overwrite\").save(r\"C:\\Users\\walbi\\Documents\\personas_cursos.csv\")"
   ]
  },
  {
   "cell_type": "code",
   "execution_count": null,
   "id": "e119a66e",
   "metadata": {},
   "outputs": [],
   "source": [
    "# Union\n",
    "df_personas.union(df_cursos).show()"
   ]
  },
  {
   "cell_type": "code",
   "execution_count": null,
   "id": "e2c79e90",
   "metadata": {},
   "outputs": [],
   "source": [
    "from datetime import date\n",
    "from datetime import datetime\n",
    "#Fecha actual\n",
    "today = date.today()\n",
    "print(today)\n",
    "#Fecha actual y Hora\n",
    "now = datetime.now()\n",
    "print(now)\n",
    "#Fecha actual solo año\n",
    "print(today.year)"
   ]
  },
  {
   "cell_type": "code",
   "execution_count": null,
   "id": "70803583",
   "metadata": {},
   "outputs": [],
   "source": [
    "# UDF funciones definidas por el usuario, caluclar el año de nacimiento segun la edad\n",
    "udf_calcular_nacimiento=udf(lambda x: (today.year-x),IntegerType())\n",
    "df_personasx=df_personas.withColumn(\"nacimiento\",udf_calcular_nacimiento(col(\"edad\")))"
   ]
  },
  {
   "cell_type": "code",
   "execution_count": null,
   "id": "f0e1e467",
   "metadata": {},
   "outputs": [],
   "source": [
    "df_personasx.show(10,False)"
   ]
  },
  {
   "cell_type": "code",
   "execution_count": null,
   "id": "ac3a0562",
   "metadata": {},
   "outputs": [],
   "source": [
    "#Crear Dataframe Spark Institutos\n",
    "schemaPersonaInstituto = StructType([\n",
    "    StructField(\"nif\", StringType(),True),\n",
    "    StructField(\"instituto\", StringType(),True)\n",
    "])\n",
    "\n",
    "dataPersonaInstituto = ([\n",
    "                (\"30303030\",'Institute of Experimental Physics##Faculty of Physics##University of Warsaw'),\n",
    "                (\"40404040\",'Institute of Experimental Physics##Faculty of Physics##University of Warsaw##Perú'),\n",
    "               ])\n",
    "\n",
    "df_instituto=spark.createDataFrame(dataPersonaInstituto,schema=schemaPersonaInstituto)\n",
    "df_instituto.show(5,False)"
   ]
  },
  {
   "cell_type": "code",
   "execution_count": null,
   "id": "18355f65",
   "metadata": {},
   "outputs": [],
   "source": [
    "#Split\n",
    "df_instituto.select('instituto',\n",
    "                    split(col('instituto'),'##').alias('lista'),\n",
    "                    split(col('instituto'),'##')[0].alias('primerValor'),\n",
    "                    split(col('instituto'),'##')[1].alias('SegundoValor'),\n",
    "                    split(col('instituto'),'##')[2].alias('TercerValor')\n",
    "                   ).show(5,False)"
   ]
  },
  {
   "cell_type": "code",
   "execution_count": null,
   "id": "e145b515",
   "metadata": {},
   "outputs": [],
   "source": [
    "#Split\n",
    "df_instituto.select('instituto',\n",
    "                   size(split(col('instituto'),'##')).alias('cant_nombre'),\n",
    "                  split(col('instituto'),'##')[size(split(col('instituto'),'##'))-1].alias('a'),\n",
    "                   split(col('instituto'),'##')[size(split(col('instituto'),'##'))-2].alias('b'),\n",
    "                   split(col('instituto'),'##')[size(split(col('instituto'),'##'))-3].alias('c')\n",
    "                  ).show(20,False)"
   ]
  }
 ],
 "metadata": {
  "kernelspec": {
   "display_name": "Python 3 (ipykernel)",
   "language": "python",
   "name": "python3"
  },
  "language_info": {
   "codemirror_mode": {
    "name": "ipython",
    "version": 3
   },
   "file_extension": ".py",
   "mimetype": "text/x-python",
   "name": "python",
   "nbconvert_exporter": "python",
   "pygments_lexer": "ipython3",
   "version": "3.9.7"
  }
 },
 "nbformat": 4,
 "nbformat_minor": 5
}
