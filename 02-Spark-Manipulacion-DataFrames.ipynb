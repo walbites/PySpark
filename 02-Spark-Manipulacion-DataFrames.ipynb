{
 "cells": [
  {
   "cell_type": "code",
   "execution_count": 1,
   "id": "d5106a75",
   "metadata": {},
   "outputs": [],
   "source": [
    "##########################################################################################################\n",
    "# VERSION  \tDESARROLLADOR             FECHA        DESCRIPCION\n",
    "# -------------------------------------------------------------\n",
    "#  1        Walter Albites Azarte     10/12/2021   Curso PySpark Entorno Local - Dataframe\n",
    "##########################################################################################################"
   ]
  },
  {
   "cell_type": "code",
   "execution_count": 2,
   "id": "76caa7d1",
   "metadata": {},
   "outputs": [
    {
     "data": {
      "text/plain": [
       "'C:\\\\spark-3.1.2-bin-hadoop2.7'"
      ]
     },
     "execution_count": 2,
     "metadata": {},
     "output_type": "execute_result"
    }
   ],
   "source": [
    "import findspark\n",
    "findspark.init()\n",
    "findspark.find()"
   ]
  },
  {
   "cell_type": "code",
   "execution_count": 3,
   "id": "a7d245db",
   "metadata": {},
   "outputs": [],
   "source": [
    "import pyspark\n",
    "from pyspark import SparkContext, SparkConf\n",
    "from pyspark.sql import SparkSession\n",
    "conf= pyspark.SparkConf().setAppName('SparkApp').setMaster('local')\n",
    "sc = pyspark.SparkContext(conf=conf)\n",
    "spark=SparkSession(sc)"
   ]
  },
  {
   "cell_type": "code",
   "execution_count": 4,
   "id": "7457b03c",
   "metadata": {},
   "outputs": [],
   "source": [
    "from pyspark.sql.types import *\n",
    "from pyspark.sql.functions import *\n",
    "from pyspark.sql.window import Window"
   ]
  },
  {
   "cell_type": "code",
   "execution_count": 5,
   "id": "f415a57a",
   "metadata": {},
   "outputs": [
    {
     "name": "stdout",
     "output_type": "stream",
     "text": [
      "+--------+---------+----+\n",
      "|     dni|   nombre|edad|\n",
      "+--------+---------+----+\n",
      "|99999999|   Walter|  35|\n",
      "|88888888|    Susan|  30|\n",
      "|77777777|Alejandro|  12|\n",
      "|66666666|    Pedro|  30|\n",
      "|55555555|   Karina|  35|\n",
      "|44444444|     Andy|  26|\n",
      "|33333333|   Magaly|  45|\n",
      "|22222222|     Gian|  28|\n",
      "|11111111|     Raul|  45|\n",
      "|00000000|    Elena|  40|\n",
      "|10101010|     null|null|\n",
      "|20202020|         |null|\n",
      "+--------+---------+----+\n",
      "\n"
     ]
    }
   ],
   "source": [
    "### Crear Dataframe Spark personas\n",
    "schemaPersona = StructType([\n",
    "    StructField(\"dni\", StringType(),True),\n",
    "    StructField(\"nombre\", StringType(),True),\n",
    "    StructField(\"edad\", IntegerType(),True)\n",
    "])\n",
    "\n",
    "dataPersona = ([(\"99999999\", \"Walter\",35),\n",
    "                (\"88888888\", \"Susan\",30),\n",
    "                (\"77777777\", \"Alejandro\",12),\n",
    "                (\"66666666\", \"Pedro\",30),\n",
    "                (\"55555555\", \"Karina\",35),\n",
    "                (\"44444444\", \"Andy\",26),\n",
    "                (\"33333333\", \"Magaly\",45),\n",
    "                (\"22222222\", \"Gian\",28),\n",
    "                (\"11111111\", \"Raul\",45),\n",
    "                (\"00000000\", \"Elena\",40),\n",
    "                (\"10101010\", None, None),\n",
    "                (\"20202020\",'',None)])\n",
    "\n",
    "df_personas=spark.createDataFrame(dataPersona,schema=schemaPersona)\n",
    "df_personas.show()"
   ]
  },
  {
   "cell_type": "code",
   "execution_count": 6,
   "id": "2698e7fb",
   "metadata": {},
   "outputs": [
    {
     "name": "stdout",
     "output_type": "stream",
     "text": [
      "root\n",
      " |-- dni: string (nullable = true)\n",
      " |-- nombre: string (nullable = true)\n",
      " |-- edad: integer (nullable = true)\n",
      "\n"
     ]
    }
   ],
   "source": [
    "df_personas.printSchema()"
   ]
  },
  {
   "cell_type": "code",
   "execution_count": 7,
   "id": "36e3e23d",
   "metadata": {},
   "outputs": [
    {
     "name": "stdout",
     "output_type": "stream",
     "text": [
      "+--------+---------+----+------------------+\n",
      "|dni     |nombre   |edad|datos_personales  |\n",
      "+--------+---------+----+------------------+\n",
      "|99999999|Walter   |35  |99999999,Walter   |\n",
      "|88888888|Susan    |30  |88888888,Susan    |\n",
      "|77777777|Alejandro|12  |77777777,Alejandro|\n",
      "|66666666|Pedro    |30  |66666666,Pedro    |\n",
      "|55555555|Karina   |35  |55555555,Karina   |\n",
      "+--------+---------+----+------------------+\n",
      "only showing top 5 rows\n",
      "\n"
     ]
    }
   ],
   "source": [
    "# concat_ws() función de Pyspark concatena múltiples columnas de cadenas en una sola columna con un separador\n",
    "# o delimitador determinado.\n",
    "df_personas.withColumn('datos_personales', concat_ws(',',col('dni'),col('nombre'))).show(5,False)"
   ]
  },
  {
   "cell_type": "code",
   "execution_count": 8,
   "id": "d14ad786",
   "metadata": {},
   "outputs": [
    {
     "name": "stdout",
     "output_type": "stream",
     "text": [
      "+--------+--------+\n",
      "|   dni_1|   dni_2|\n",
      "+--------+--------+\n",
      "|    null|    null|\n",
      "|88888888|    null|\n",
      "|    null|99999999|\n",
      "+--------+--------+\n",
      "\n"
     ]
    }
   ],
   "source": [
    "# Coalesce función de Pyspark Devuelve la primera columna que no es nula.\n",
    "df_documentoidentidad = spark.createDataFrame([(None, None), (88888888, None), (None, 99999999)], (\"dni_1\", \"dni_2\"))\n",
    "df_documentoidentidad.show()"
   ]
  },
  {
   "cell_type": "code",
   "execution_count": 9,
   "id": "44f56e11",
   "metadata": {},
   "outputs": [
    {
     "name": "stdout",
     "output_type": "stream",
     "text": [
      "+--------+\n",
      "|     dni|\n",
      "+--------+\n",
      "|    null|\n",
      "|88888888|\n",
      "|99999999|\n",
      "+--------+\n",
      "\n"
     ]
    }
   ],
   "source": [
    "df_documentoidentidad.select(coalesce(col(\"dni_1\"), col(\"dni_2\")).alias(\"dni\")).show()"
   ]
  },
  {
   "cell_type": "code",
   "execution_count": 10,
   "id": "0f846a8c",
   "metadata": {},
   "outputs": [
    {
     "name": "stdout",
     "output_type": "stream",
     "text": [
      "+--------+---------+----+\n",
      "|     dni|   nombre|edad|\n",
      "+--------+---------+----+\n",
      "|99999999|   Walter|  35|\n",
      "|88888888|    Susan|  30|\n",
      "|77777777|Alejandro|  12|\n",
      "|66666666|    Pedro|  30|\n",
      "|55555555|   Karina|  35|\n",
      "|44444444|     Andy|  26|\n",
      "|33333333|   Magaly|  45|\n",
      "|22222222|     Gian|  28|\n",
      "|11111111|     Raul|  45|\n",
      "|00000000|    Elena|  40|\n",
      "|10101010|     null|null|\n",
      "|20202020|         |null|\n",
      "+--------+---------+----+\n",
      "\n"
     ]
    }
   ],
   "source": [
    "df_personas.show()"
   ]
  },
  {
   "cell_type": "code",
   "execution_count": 11,
   "id": "7b61012c",
   "metadata": {},
   "outputs": [],
   "source": [
    "### Ejemplos utilizando UDF"
   ]
  },
  {
   "cell_type": "code",
   "execution_count": 12,
   "id": "b67230e4",
   "metadata": {},
   "outputs": [],
   "source": [
    "#Crear una funcion que convierta en minusculas\n",
    "def ConvertirMinusculas(texto):\n",
    "    texto=texto.lower()\n",
    "    return texto"
   ]
  },
  {
   "cell_type": "code",
   "execution_count": 13,
   "id": "642740ea",
   "metadata": {},
   "outputs": [],
   "source": [
    "# Crear un UDF a apartir de una funcion de Python\n",
    "udf_convertir_misnusculas=udf(ConvertirMinusculas,StringType())"
   ]
  },
  {
   "cell_type": "code",
   "execution_count": 14,
   "id": "92ca68d6",
   "metadata": {},
   "outputs": [
    {
     "data": {
      "text/plain": [
       "'\\ndf_personasy=df_personas.withColumn(\"nombre_normalizado\",\\n                                    when(((col(\"nombre\").isNotNull()) & (col(\"nombre\")!=\"\")),\\n                                         udf_convertir_misnusculas(\"nombre\")).                                    otherwise(\"\")\\n                                   )\\n\\ndf_personasy.show()\\n'"
      ]
     },
     "execution_count": 14,
     "metadata": {},
     "output_type": "execute_result"
    }
   ],
   "source": [
    "# Crear una columna normalizada en minuscula con la columna nombre y curso, Saldra error al parecer lee todas las filas\n",
    "# del dataframe Los null y vacios por mas que se use la condicional\n",
    "\n",
    "'''\n",
    "df_personasy=df_personas.withColumn(\"nombre_normalizado\",\n",
    "                                    when(((col(\"nombre\").isNotNull()) & (col(\"nombre\")!=\"\")),\n",
    "                                         udf_convertir_misnusculas(\"nombre\")).\\\n",
    "                                    otherwise(\"\")\n",
    "                                   )\n",
    "\n",
    "df_personasy.show()\n",
    "'''\n",
    "\n",
    "# AttributeError: 'NoneType' object has no attribute 'lower'"
   ]
  },
  {
   "cell_type": "code",
   "execution_count": 15,
   "id": "9cb272d2",
   "metadata": {},
   "outputs": [
    {
     "name": "stdout",
     "output_type": "stream",
     "text": [
      "+--------+---------+----+-----------+\n",
      "|     dni|   nombre|edad|nombre_temp|\n",
      "+--------+---------+----+-----------+\n",
      "|99999999|   Walter|  35|     Walter|\n",
      "|88888888|    Susan|  30|      Susan|\n",
      "|77777777|Alejandro|  12|  Alejandro|\n",
      "|66666666|    Pedro|  30|      Pedro|\n",
      "|55555555|   Karina|  35|     Karina|\n",
      "|44444444|     Andy|  26|       Andy|\n",
      "|33333333|   Magaly|  45|     Magaly|\n",
      "|22222222|     Gian|  28|       Gian|\n",
      "|11111111|     Raul|  45|       Raul|\n",
      "|00000000|    Elena|  40|      Elena|\n",
      "|10101010|     null|null|           |\n",
      "|20202020|         |null|           |\n",
      "+--------+---------+----+-----------+\n",
      "\n"
     ]
    }
   ],
   "source": [
    "#Solucion 1\n",
    "#Crear una nueva columna temporal para colocar valores vacios a los NULL\n",
    "df_personasz=df_personas.select('*',col(\"nombre\").alias(\"nombre_temp\"))\n",
    "df_personasz=df_personasz.na.fill(value=\"\",subset=[\"nombre_temp\"])\n",
    "df_personasz.show()"
   ]
  },
  {
   "cell_type": "code",
   "execution_count": 16,
   "id": "98826451",
   "metadata": {},
   "outputs": [
    {
     "name": "stdout",
     "output_type": "stream",
     "text": [
      "+--------+---------+----+------------------+\n",
      "|dni     |nombre   |edad|nombre_normalizado|\n",
      "+--------+---------+----+------------------+\n",
      "|99999999|Walter   |35  |walter            |\n",
      "|88888888|Susan    |30  |susan             |\n",
      "|77777777|Alejandro|12  |alejandro         |\n",
      "|66666666|Pedro    |30  |pedro             |\n",
      "|55555555|Karina   |35  |karina            |\n",
      "|44444444|Andy     |26  |andy              |\n",
      "|33333333|Magaly   |45  |magaly            |\n",
      "|22222222|Gian     |28  |gian              |\n",
      "|11111111|Raul     |45  |raul              |\n",
      "|00000000|Elena    |40  |elena             |\n",
      "|10101010|null     |null|                  |\n",
      "|20202020|         |null|                  |\n",
      "+--------+---------+----+------------------+\n",
      "\n"
     ]
    }
   ],
   "source": [
    "# Aplicamos el filtro y utilizamos el UDF \n",
    "df_personasz=df_personasz.withColumn(\"nombre_normalizado\",\n",
    "                                    when(col(\"nombre_temp\")!=\"\",\n",
    "                                         udf_convertir_misnusculas(\"nombre_temp\")).\\\n",
    "                                         #lit(\"Con Dato\")).\n",
    "                                    otherwise(\"\")\n",
    "                                   ).drop(\"nombre_temp\")\n",
    "df_personasz.show(20,False)"
   ]
  },
  {
   "cell_type": "code",
   "execution_count": 17,
   "id": "bbd905d8",
   "metadata": {},
   "outputs": [],
   "source": [
    "#Solucion 2\n",
    "#Modificar la funcion cuando es None asignarle vacio\n",
    "def ConvertirMinusculas(texto):\n",
    "    if texto==None:\n",
    "        texto=\"\"\n",
    "    else:\n",
    "        texto=texto.lower()\n",
    "    return texto\n",
    "\n",
    "udf_convertir_misnusculas=udf(ConvertirMinusculas,StringType())"
   ]
  },
  {
   "cell_type": "code",
   "execution_count": 18,
   "id": "44a85e76",
   "metadata": {},
   "outputs": [
    {
     "name": "stdout",
     "output_type": "stream",
     "text": [
      "+--------+---------+----+------------------+\n",
      "|dni     |nombre   |edad|nombre_normalizado|\n",
      "+--------+---------+----+------------------+\n",
      "|99999999|Walter   |35  |walter            |\n",
      "|88888888|Susan    |30  |susan             |\n",
      "|77777777|Alejandro|12  |alejandro         |\n",
      "|66666666|Pedro    |30  |pedro             |\n",
      "|55555555|Karina   |35  |karina            |\n",
      "|44444444|Andy     |26  |andy              |\n",
      "|33333333|Magaly   |45  |magaly            |\n",
      "|22222222|Gian     |28  |gian              |\n",
      "|11111111|Raul     |45  |raul              |\n",
      "|00000000|Elena    |40  |elena             |\n",
      "|10101010|null     |null|                  |\n",
      "|20202020|         |null|                  |\n",
      "+--------+---------+----+------------------+\n",
      "\n"
     ]
    }
   ],
   "source": [
    "df_personasm=df_personas.withColumn(\"nombre_normalizado\",\n",
    "                                    when(((col(\"nombre\").isNotNull()) & (col(\"nombre\")!=\"\")),\n",
    "                                         udf_convertir_misnusculas(\"nombre\")).\\\n",
    "                                    otherwise(\"\")\n",
    "                                   )\n",
    "df_personasm.show(20,False)"
   ]
  },
  {
   "cell_type": "code",
   "execution_count": 19,
   "id": "665b75e9",
   "metadata": {},
   "outputs": [],
   "source": [
    "df_personas_x=df_personas"
   ]
  },
  {
   "cell_type": "code",
   "execution_count": 20,
   "id": "e055de80",
   "metadata": {},
   "outputs": [],
   "source": [
    "# Renombrar Columnas utilizando withColumnRenamed, Consume mucha memoria\n",
    "for column in df_personas_x.columns:\n",
    "        df_personas_x=df_personas_x.withColumnRenamed(column,'personas_' + column)"
   ]
  },
  {
   "cell_type": "code",
   "execution_count": 21,
   "id": "48506657",
   "metadata": {},
   "outputs": [
    {
     "name": "stdout",
     "output_type": "stream",
     "text": [
      "+------------+---------------+-------------+\n",
      "|personas_dni|personas_nombre|personas_edad|\n",
      "+------------+---------------+-------------+\n",
      "|99999999    |Walter         |35           |\n",
      "|88888888    |Susan          |30           |\n",
      "|77777777    |Alejandro      |12           |\n",
      "|66666666    |Pedro          |30           |\n",
      "|55555555    |Karina         |35           |\n",
      "+------------+---------------+-------------+\n",
      "only showing top 5 rows\n",
      "\n"
     ]
    }
   ],
   "source": [
    "df_personas_x.show(5,False)"
   ]
  },
  {
   "cell_type": "code",
   "execution_count": 22,
   "id": "d8fecca3",
   "metadata": {},
   "outputs": [
    {
     "name": "stdout",
     "output_type": "stream",
     "text": [
      "+-----------+--------------+------------+\n",
      "|persons_dni|persons_nombre|persons_edad|\n",
      "+-----------+--------------+------------+\n",
      "|   99999999|        Walter|          35|\n",
      "|   88888888|         Susan|          30|\n",
      "|   77777777|     Alejandro|          12|\n",
      "|   66666666|         Pedro|          30|\n",
      "|   55555555|        Karina|          35|\n",
      "|   44444444|          Andy|          26|\n",
      "|   33333333|        Magaly|          45|\n",
      "|   22222222|          Gian|          28|\n",
      "|   11111111|          Raul|          45|\n",
      "|   00000000|         Elena|          40|\n",
      "|   10101010|          null|        null|\n",
      "|   20202020|              |        null|\n",
      "+-----------+--------------+------------+\n",
      "\n"
     ]
    }
   ],
   "source": [
    "# Renombrar columnas utilizando Alias, no consume mucha memoria Recomendable\n",
    "df_personas_y=df_personas.select([col(i).alias('persons_'+i) for i in df_personas.columns])\n",
    "df_personas_y.show()"
   ]
  },
  {
   "cell_type": "code",
   "execution_count": 23,
   "id": "c1bf7388",
   "metadata": {},
   "outputs": [
    {
     "name": "stdout",
     "output_type": "stream",
     "text": [
      "+---+------+----+\n",
      "|dni|nombre|edad|\n",
      "+---+------+----+\n",
      "|  0|     2|   2|\n",
      "+---+------+----+\n",
      "\n"
     ]
    }
   ],
   "source": [
    "# Indentificar NULL, Nan y Vacios\n",
    "df_personas.select([count(when( (isnan(c))| (col(c).isNull()) | (col(c)==''), c)).alias(c) for c in df_personas.columns]).show()"
   ]
  },
  {
   "cell_type": "code",
   "execution_count": 24,
   "id": "eeca785a",
   "metadata": {},
   "outputs": [
    {
     "name": "stdout",
     "output_type": "stream",
     "text": [
      "+--------+---------+----+----------+\n",
      "|     dni|   nombre|edad|     fecha|\n",
      "+--------+---------+----+----------+\n",
      "|99999999|   Walter|  35|2022-05-19|\n",
      "|88888888|    Susan|  30|2022-05-19|\n",
      "|77777777|Alejandro|  12|2022-05-19|\n",
      "|66666666|    Pedro|  30|2022-05-19|\n",
      "|55555555|   Karina|  35|2022-05-19|\n",
      "|44444444|     Andy|  26|2022-05-19|\n",
      "|33333333|   Magaly|  45|2022-05-19|\n",
      "|22222222|     Gian|  28|2022-05-19|\n",
      "|11111111|     Raul|  45|2022-05-19|\n",
      "|00000000|    Elena|  40|2022-05-19|\n",
      "|10101010|     null|null|2022-05-19|\n",
      "|20202020|         |null|2022-05-19|\n",
      "+--------+---------+----+----------+\n",
      "\n"
     ]
    }
   ],
   "source": [
    "# Adicionar una columna con la fecha del sistema\n",
    "df_personas.withColumn('fecha',current_date()).show()"
   ]
  },
  {
   "cell_type": "code",
   "execution_count": 25,
   "id": "3ee0f456",
   "metadata": {},
   "outputs": [
    {
     "name": "stdout",
     "output_type": "stream",
     "text": [
      "+--------+---------+----+-----------------------+\n",
      "|dni     |nombre   |edad|fechaHora              |\n",
      "+--------+---------+----+-----------------------+\n",
      "|99999999|Walter   |35  |2022-05-19 11:20:57.547|\n",
      "|88888888|Susan    |30  |2022-05-19 11:20:57.547|\n",
      "|77777777|Alejandro|12  |2022-05-19 11:20:57.547|\n",
      "|66666666|Pedro    |30  |2022-05-19 11:20:57.547|\n",
      "|55555555|Karina   |35  |2022-05-19 11:20:57.547|\n",
      "+--------+---------+----+-----------------------+\n",
      "only showing top 5 rows\n",
      "\n"
     ]
    }
   ],
   "source": [
    "# Adicionar una columna con la fecha y Hora  del sistema\n",
    "df_personas.withColumn(\"fechaHora\",to_timestamp(current_timestamp(),\"MM-dd-yyyy HH mm ss SSS\")).show(5,False)"
   ]
  },
  {
   "cell_type": "code",
   "execution_count": 26,
   "id": "fb7821ec",
   "metadata": {},
   "outputs": [
    {
     "name": "stdout",
     "output_type": "stream",
     "text": [
      "2022-05-19 11:20:58.164010\n"
     ]
    }
   ],
   "source": [
    "# Capturar la fecha y hora de Inicio de ejecucion\n",
    "from datetime import datetime\n",
    "x=str(datetime.now())\n",
    "print(x)"
   ]
  },
  {
   "cell_type": "code",
   "execution_count": 27,
   "id": "d83ce073",
   "metadata": {},
   "outputs": [
    {
     "name": "stdout",
     "output_type": "stream",
     "text": [
      "19/05/22\n"
     ]
    }
   ],
   "source": [
    "# fechas en Python\n",
    "import time\n",
    "print (time.strftime(\"%d/%m/%y\"))"
   ]
  },
  {
   "cell_type": "code",
   "execution_count": 28,
   "id": "5d1eb269",
   "metadata": {},
   "outputs": [
    {
     "name": "stdout",
     "output_type": "stream",
     "text": [
      "+--------+---------+----+--------+\n",
      "|     dni|   nombre|edad|    date|\n",
      "+--------+---------+----+--------+\n",
      "|99999999|   Walter|  35|19/05/22|\n",
      "|88888888|    Susan|  30|19/05/22|\n",
      "|77777777|Alejandro|  12|19/05/22|\n",
      "|66666666|    Pedro|  30|19/05/22|\n",
      "|55555555|   Karina|  35|19/05/22|\n",
      "|44444444|     Andy|  26|19/05/22|\n",
      "|33333333|   Magaly|  45|19/05/22|\n",
      "|22222222|     Gian|  28|19/05/22|\n",
      "|11111111|     Raul|  45|19/05/22|\n",
      "|00000000|    Elena|  40|19/05/22|\n",
      "|10101010|     null|null|19/05/22|\n",
      "|20202020|         |null|19/05/22|\n",
      "+--------+---------+----+--------+\n",
      "\n"
     ]
    }
   ],
   "source": [
    "df_personas.withColumn('date',lit(time.strftime(\"%d/%m/%y\"))).show()"
   ]
  },
  {
   "cell_type": "code",
   "execution_count": 29,
   "id": "b866e7f3",
   "metadata": {},
   "outputs": [
    {
     "name": "stdout",
     "output_type": "stream",
     "text": [
      "+----------------+\n",
      "|max(length(dni))|\n",
      "+----------------+\n",
      "|               8|\n",
      "+----------------+\n",
      "\n",
      "+-------------------+\n",
      "|max(length(nombre))|\n",
      "+-------------------+\n",
      "|                  9|\n",
      "+-------------------+\n",
      "\n",
      "+-----------------+\n",
      "|max(length(edad))|\n",
      "+-----------------+\n",
      "|                2|\n",
      "+-----------------+\n",
      "\n"
     ]
    }
   ],
   "source": [
    "# Valores maximos de cada Columna\n",
    "for i in df_personas.columns:\n",
    "    df_personas.select(max(length(i))).show()"
   ]
  },
  {
   "cell_type": "code",
   "execution_count": 30,
   "id": "e9fc65e2",
   "metadata": {},
   "outputs": [],
   "source": [
    "################### Join parametrizable en Funciones Pyspark"
   ]
  },
  {
   "cell_type": "code",
   "execution_count": 31,
   "id": "4e841acb",
   "metadata": {},
   "outputs": [
    {
     "name": "stdout",
     "output_type": "stream",
     "text": [
      "+--------+------+------+\n",
      "|     dni| curso|precio|\n",
      "+--------+------+------+\n",
      "|99999999| Spark| 100.5|\n",
      "|99999999| Scala| 100.5|\n",
      "|99999999|  Java| 100.5|\n",
      "|88888888|Ingles|  80.9|\n",
      "|77777777|  Java|  12.5|\n",
      "+--------+------+------+\n",
      "\n"
     ]
    }
   ],
   "source": [
    "#Crear Dataframe Spark Cursos\n",
    "schemaCursos = StructType([\n",
    "    StructField(\"dni\", StringType(),True),\n",
    "    StructField(\"curso\", StringType(),True),\n",
    "    StructField(\"precio\", DoubleType(),True)\n",
    "])\n",
    "\n",
    "dataCurso = ([(\"99999999\", \"Spark\",100.50),\n",
    "              (\"99999999\", \"Scala\",100.50),\n",
    "              (\"99999999\", \"Java\",100.50),\n",
    "              (\"88888888\", \"Ingles\",80.90),\n",
    "              (\"77777777\", \"Java\",12.50)\n",
    "])\n",
    "\n",
    "df_cursos=spark.createDataFrame(dataCurso,schema=schemaCursos)\n",
    "df_cursos.show()"
   ]
  },
  {
   "cell_type": "code",
   "execution_count": 32,
   "id": "c2a7a8df",
   "metadata": {},
   "outputs": [
    {
     "name": "stdout",
     "output_type": "stream",
     "text": [
      "+--------+---------+----+--------+------+------+\n",
      "|     dni|   nombre|edad|     dni| curso|precio|\n",
      "+--------+---------+----+--------+------+------+\n",
      "|88888888|    Susan|  30|88888888|Ingles|  80.9|\n",
      "|99999999|   Walter|  35|99999999| Spark| 100.5|\n",
      "|99999999|   Walter|  35|99999999| Scala| 100.5|\n",
      "|99999999|   Walter|  35|99999999|  Java| 100.5|\n",
      "|77777777|Alejandro|  12|77777777|  Java|  12.5|\n",
      "+--------+---------+----+--------+------+------+\n",
      "\n"
     ]
    }
   ],
   "source": [
    "def join_example(dfa,dfb):\n",
    "    dfa_whith_dfb=dfa.alias(\"a\").join(dfb.alias(\"b\"),col(\"a.dni\")==col(\"b.dni\"),how='inner')\n",
    "    return dfa_whith_dfb\n",
    "\n",
    "dfa_whith_dfb=join_example(df_personas,df_cursos)\n",
    "dfa_whith_dfb.show()"
   ]
  },
  {
   "cell_type": "code",
   "execution_count": 33,
   "id": "9719f266",
   "metadata": {},
   "outputs": [],
   "source": [
    "################### Join parametrizable en Funciones Pandas to Pyspark"
   ]
  },
  {
   "cell_type": "code",
   "execution_count": 34,
   "id": "73db08d9",
   "metadata": {},
   "outputs": [
    {
     "data": {
      "text/html": [
       "<div>\n",
       "<style scoped>\n",
       "    .dataframe tbody tr th:only-of-type {\n",
       "        vertical-align: middle;\n",
       "    }\n",
       "\n",
       "    .dataframe tbody tr th {\n",
       "        vertical-align: top;\n",
       "    }\n",
       "\n",
       "    .dataframe thead th {\n",
       "        text-align: right;\n",
       "    }\n",
       "</style>\n",
       "<table border=\"1\" class=\"dataframe\">\n",
       "  <thead>\n",
       "    <tr style=\"text-align: right;\">\n",
       "      <th></th>\n",
       "      <th>dni</th>\n",
       "      <th>nombre</th>\n",
       "      <th>edad</th>\n",
       "      <th>curso</th>\n",
       "      <th>precio</th>\n",
       "    </tr>\n",
       "  </thead>\n",
       "  <tbody>\n",
       "    <tr>\n",
       "      <th>0</th>\n",
       "      <td>99999999</td>\n",
       "      <td>Walter</td>\n",
       "      <td>35.0</td>\n",
       "      <td>Spark</td>\n",
       "      <td>100.5</td>\n",
       "    </tr>\n",
       "    <tr>\n",
       "      <th>1</th>\n",
       "      <td>99999999</td>\n",
       "      <td>Walter</td>\n",
       "      <td>35.0</td>\n",
       "      <td>Scala</td>\n",
       "      <td>100.5</td>\n",
       "    </tr>\n",
       "    <tr>\n",
       "      <th>2</th>\n",
       "      <td>99999999</td>\n",
       "      <td>Walter</td>\n",
       "      <td>35.0</td>\n",
       "      <td>Java</td>\n",
       "      <td>100.5</td>\n",
       "    </tr>\n",
       "    <tr>\n",
       "      <th>3</th>\n",
       "      <td>88888888</td>\n",
       "      <td>Susan</td>\n",
       "      <td>30.0</td>\n",
       "      <td>Ingles</td>\n",
       "      <td>80.9</td>\n",
       "    </tr>\n",
       "    <tr>\n",
       "      <th>4</th>\n",
       "      <td>77777777</td>\n",
       "      <td>Alejandro</td>\n",
       "      <td>12.0</td>\n",
       "      <td>Java</td>\n",
       "      <td>12.5</td>\n",
       "    </tr>\n",
       "  </tbody>\n",
       "</table>\n",
       "</div>"
      ],
      "text/plain": [
       "        dni     nombre  edad   curso  precio\n",
       "0  99999999     Walter  35.0   Spark   100.5\n",
       "1  99999999     Walter  35.0   Scala   100.5\n",
       "2  99999999     Walter  35.0    Java   100.5\n",
       "3  88888888      Susan  30.0  Ingles    80.9\n",
       "4  77777777  Alejandro  12.0    Java    12.5"
      ]
     },
     "execution_count": 34,
     "metadata": {},
     "output_type": "execute_result"
    }
   ],
   "source": [
    "df_personas_pandas=df_personas.toPandas()\n",
    "df_cursos_pandas=df_cursos.toPandas()\n",
    "\n",
    "def merge_example_pandas(dfa,dfb):\n",
    "    dfa_whith_dfb=dfa.merge(dfb,how='inner',on=\"dni\")\n",
    "    return dfa_whith_dfb\n",
    "\n",
    "dfa_whith_dfb_pandas=merge_example_pandas(df_personas_pandas,df_cursos_pandas)\n",
    "\n",
    "dfa_whith_dfb_pandas.head()"
   ]
  },
  {
   "cell_type": "code",
   "execution_count": 35,
   "id": "71e0e8dd",
   "metadata": {},
   "outputs": [
    {
     "name": "stdout",
     "output_type": "stream",
     "text": [
      "+--------+---------+----+------+------+\n",
      "|     dni|   nombre|edad| curso|precio|\n",
      "+--------+---------+----+------+------+\n",
      "|99999999|   Walter|35.0| Spark| 100.5|\n",
      "|99999999|   Walter|35.0| Scala| 100.5|\n",
      "|99999999|   Walter|35.0|  Java| 100.5|\n",
      "|88888888|    Susan|30.0|Ingles|  80.9|\n",
      "|77777777|Alejandro|12.0|  Java|  12.5|\n",
      "+--------+---------+----+------+------+\n",
      "\n"
     ]
    }
   ],
   "source": [
    "#Convertir a dataframe de Spark\n",
    "dfa_whith_dfb_pandas_spark = spark.createDataFrame(dfa_whith_dfb_pandas)\n",
    "dfa_whith_dfb_pandas_spark.show()"
   ]
  },
  {
   "cell_type": "code",
   "execution_count": 36,
   "id": "957a6e53",
   "metadata": {},
   "outputs": [
    {
     "name": "stdout",
     "output_type": "stream",
     "text": [
      "dni 12 100.0\n",
      "nombre 11 91.66666666666666\n",
      "edad 10 83.33333333333334\n"
     ]
    }
   ],
   "source": [
    "#Conteos\n",
    "total=df_personas.count()\n",
    "\n",
    "for i in df_personas.columns:\n",
    "    conteo=df_personas.select(i).filter(col(i).isNotNull()).count()\n",
    "    print(i,conteo,(conteo/total)*100)"
   ]
  },
  {
   "cell_type": "code",
   "execution_count": 37,
   "id": "35589f9e",
   "metadata": {},
   "outputs": [
    {
     "data": {
      "text/plain": [
       "'\\ndf_personas = spark.read.options(header=\\'True\\',inferSchema=\\'True\\',delimiter=\\',\\',escape=\\'\"\\',quote=\\'\"\\',multiLine=True).csv(root + \\'personas.csv\\')\\n'"
      ]
     },
     "execution_count": 37,
     "metadata": {},
     "output_type": "execute_result"
    }
   ],
   "source": [
    "# leer CSV para que reconozca los satos de linea\n",
    "'''\n",
    "df_personas = spark.read.options(header='True',inferSchema='True',delimiter=',',escape='\"',quote='\"',multiLine=True).\\\n",
    "csv(root + 'personas.csv')\n",
    "'''"
   ]
  },
  {
   "cell_type": "code",
   "execution_count": null,
   "id": "c293055e",
   "metadata": {},
   "outputs": [],
   "source": []
  },
  {
   "cell_type": "code",
   "execution_count": null,
   "id": "59cbe968",
   "metadata": {},
   "outputs": [],
   "source": []
  }
 ],
 "metadata": {
  "kernelspec": {
   "display_name": "Python 3 (ipykernel)",
   "language": "python",
   "name": "python3"
  },
  "language_info": {
   "codemirror_mode": {
    "name": "ipython",
    "version": 3
   },
   "file_extension": ".py",
   "mimetype": "text/x-python",
   "name": "python",
   "nbconvert_exporter": "python",
   "pygments_lexer": "ipython3",
   "version": "3.9.7"
  }
 },
 "nbformat": 4,
 "nbformat_minor": 5
}
