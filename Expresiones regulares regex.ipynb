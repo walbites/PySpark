{
 "cells": [
  {
   "cell_type": "code",
   "execution_count": 1,
   "id": "483c92ff",
   "metadata": {},
   "outputs": [],
   "source": [
    "##########################################################################################################\n",
    "# VERSION  \tDESARROLLADOR             FECHA        DESCRIPCION\n",
    "# -------------------------------------------------------------\n",
    "#  1        Walter Albites Azarte     10/12/2021   Curso PySpark Entorno Local - Dataframe\n",
    "##########################################################################################################"
   ]
  },
  {
   "cell_type": "code",
   "execution_count": 2,
   "id": "d4892703",
   "metadata": {},
   "outputs": [
    {
     "data": {
      "text/plain": [
       "'C:\\\\spark-3.1.2-bin-hadoop2.7'"
      ]
     },
     "execution_count": 2,
     "metadata": {},
     "output_type": "execute_result"
    }
   ],
   "source": [
    "#Ruta Local\n",
    "#Reiniciar el equipo\n",
    "#Testing pyspark instalacion\n",
    "import findspark\n",
    "findspark.init()\n",
    "findspark.find()\n",
    "import pyspark\n",
    "findspark.find()"
   ]
  },
  {
   "cell_type": "code",
   "execution_count": 3,
   "id": "20ad0b3d",
   "metadata": {},
   "outputs": [],
   "source": [
    "#Ruta Local\n",
    "from pyspark import SparkContext, SparkConf\n",
    "from pyspark.sql import SparkSession\n",
    "conf= pyspark.SparkConf().setAppName('SparkApp').setMaster('local')\n",
    "sc = pyspark.SparkContext(conf=conf)\n",
    "spark=SparkSession(sc)"
   ]
  },
  {
   "cell_type": "code",
   "execution_count": 4,
   "id": "41985be7",
   "metadata": {},
   "outputs": [],
   "source": [
    "from pyspark.conf import SparkConf\n",
    "from pyspark.sql import SparkSession\n",
    "from pyspark.sql.types import *\n",
    "from pyspark.sql.functions import *"
   ]
  },
  {
   "cell_type": "code",
   "execution_count": 5,
   "id": "fa670f18",
   "metadata": {},
   "outputs": [],
   "source": [
    "import re"
   ]
  },
  {
   "cell_type": "markdown",
   "id": "b7d225f2",
   "metadata": {},
   "source": [
    "# Teoria Expresiones Regulares\n",
    "\n",
    "Las expresiones regulares, a menudo llamada también regex, son unas secuencias de caracteres que forma un patrón de búsqueda, las cuales son formalizadas por medio de una sintaxis específica.\n",
    "\n",
    "Metacaracteres:\n",
    "\n",
    "\\d      - Digitos (0-9)\n",
    "\n",
    "\\D      - No digitos (0-9)\n",
    "\n",
    "\\w      - Caracter de palabra (a-z, A-Z, 0-9, _)\n",
    "\n",
    "\\W      - No caracter de palabra\n",
    "\n",
    "\\s      - Espacio en blanco (espacio, tab, nueva linea)\n",
    "\n",
    "\\S      - No espacio en blanco (espacio, tab, nueva linea)\n",
    "\n",
    ".       - Cualquier caracter excepto nueva linea (codicioso - greedy)\n",
    "\n",
    "\\       - Cancela caracteres especiales\n",
    "\n",
    "^       - Inicio de una cadena de caracteres (string)\n",
    "\n",
    "$       - Fin de una cadena de caracteres\n",
    "\n",
    "Cuantificadores Iteradores:\n",
    "Cualquier elemento de una expresion regular puede ser seguido por otro tipo de metacaracteres, los iteradores. Usando estos metacaracteres se puede especificar el número de ocurrencias del caracter previo, de un metacaracter o de una subexpresión. Ellos son:\n",
    "\n",
    "\"*\"      - 0 o más (codicioso - greedy)\n",
    "\n",
    "\"+\"      - 1 o más (codicioso - greedy)\n",
    "\n",
    "?       - 0 or 1 (perezoso - lazy)\n",
    "\n",
    "{3}     - Numero exacto\n",
    "\n",
    "{n,}    - Numero n+\n",
    "\n",
    "{3,4}   - Rango de números (Minimo, Maximo)\n",
    "\n",
    "( )     - Grupos\n",
    "\n",
    "[ ]      - Encuentra caracteres en corchetes\n",
    "\n",
    "[^ ]    - Encuentra caracteres que no están dentro de corchetes\n",
    "\n",
    "|       - Condicional O\n",
    "\n",
    "\\b      - Limite de palabra\n",
    "\n",
    "\\B      - No limite de palabra\n",
    "\n",
    "\\1      - Referencias\n",
    "\n",
    "Ahora que ya tenemos el objeto de expresión regular compilado podemos utilizar alguno de los siguientes métodos para buscar coincidencias con nuestro texto:\n",
    "\n",
    "match(): El cual determinada si la regex tiene coincidencias en el comienzo del texto.\n",
    "\n",
    "search(): El cual escanea todo el texto buscando cualquier ubicación donde haya una coincidencia.\n",
    "\n",
    "findall(): El cual encuentra todos los subtextos donde haya una coincidencia y nos devuelve estas coincidencias como una lista.\n",
    "\n",
    "finditer(): El cual es similar al anterior pero en lugar de devolvernos una lista nos devuelve un iterador."
   ]
  },
  {
   "cell_type": "code",
   "execution_count": 6,
   "id": "fb24484c",
   "metadata": {},
   "outputs": [
    {
     "name": "stdout",
     "output_type": "stream",
     "text": [
      "['1500', '2500']\n",
      "['Walter', 'Raquel']\n"
     ]
    }
   ],
   "source": [
    "texto=\"los ganadores son : Walter con 1500  y Raquel con 2500 soles respectivamente\"\n",
    "#Extraer los Montos\n",
    "print(re.findall(r'\\d{1,6}',texto))\n",
    "#Extraer los Nombres\n",
    "print(re.findall(r'[A-Z][a-z]{2,10}',texto))"
   ]
  },
  {
   "cell_type": "code",
   "execution_count": 7,
   "id": "a4345f06",
   "metadata": {},
   "outputs": [
    {
     "data": {
      "text/plain": [
       "['walbites@gmail.com', 'rfuentes@hotmail.com', 'facturacion@empresa.com']"
      ]
     },
     "execution_count": 7,
     "metadata": {},
     "output_type": "execute_result"
    }
   ],
   "source": [
    "#Obtener E-mail\n",
    "ERMail = re.compile(r\"\"\"\n",
    "\\b             # comienzo de delimitador de palabra\n",
    "[\\w.%+-]       # usuario: Cualquier caracter alfanumerico mas los signos (.%+-)\n",
    "+@             # seguido de @\n",
    "[\\w.-]         # dominio: Cualquier caracter alfanumerico mas los signos (.-)\n",
    "+\\.            # seguido de .\n",
    "[a-zA-Z]{2,6}  # dominio de alto nivel: 2 a 6 letras en minúsculas o mayúsculas.\n",
    "\\b             # fin de delimitador de palabra\n",
    "\"\"\", re.X)\n",
    "cuerpoCorreo=\"estimados señores Walter 'walbites@gmail.com' y Raquel rfuentes@hotmail.com deben remitir un correo \\\n",
    "al area de contabilidad 'facturacion@empresa.com'\"\n",
    "ERMail.findall(cuerpoCorreo)"
   ]
  },
  {
   "cell_type": "code",
   "execution_count": 8,
   "id": "9f6bfb23",
   "metadata": {},
   "outputs": [
    {
     "name": "stdout",
     "output_type": "stream",
     "text": [
      "['walbites@gmail.com', 'rfuentes@hotmail.com', 'facturacion@empresa.com']\n"
     ]
    }
   ],
   "source": [
    "print(re.findall(r'\\b[\\w.%+-]+@[\\w.-]+\\.[a-zA-Z]{2,6}\\b',cuerpoCorreo))"
   ]
  },
  {
   "cell_type": "code",
   "execution_count": 9,
   "id": "8ae123a6",
   "metadata": {},
   "outputs": [
    {
     "name": "stdout",
     "output_type": "stream",
     "text": [
      "['SAF2015-66761-P', 'P12-BIO-1395', 'PI-0493-2016', 'TEC1234-12345-C1-1-R', 'QLK5-CT2002_02307']\n"
     ]
    }
   ],
   "source": [
    "# Extraer los codigos de proyectos que empiecen con una letra mayuscula  de A-Z minimo 1 hasta 4 caracteres\n",
    "# seguido de Caracter de palabra (a-z, A-Z, 0-9, _) opcional seguido de \"-\"\n",
    "texto=\"This work was: SAF2015-66761-P del ministerio peruano, P12-BIO-1395 from Consejería de Innovación, \\\n",
    "Ciencia y Tecnología, PI-0493-2016 from Consejería de Salud and the Cooperative Research Thematic  \\\n",
    "Network (RETICS) programme (RD16/0012/ 0013) (RIER), from Instituto de Salud Carlos III \\\n",
    "(ISCIII, Ministerio de Economía de Perú, Industry and Competitiveness). AM  \\\n",
    "is a recipient of a Miguel Servet fellowship (CP17/00008) from ISCIII  \\\n",
    "(Spanish Ministry of Economy, Industry and Competitiveness).  \\\n",
    "CW is supported by FP7/2007-2013/ERC Advanced Grant (agreement 2012¿322698), \\\n",
    "the Stiftelsen K.G. Jebsen Coeliac Disease Research Centre (Oslo, Norway), and a Spinoza Prize  \\\n",
    "from the Netherlands Organization TEC1234-12345-C1-1-R Research (NWO SPI 92-266). QLK5-CT2002_02307\"\n",
    "\n",
    "print(re.findall(r'[A-Z]{1,4}\\w*-\\w*-*\\w*-*\\w*-*\\w*',texto))"
   ]
  },
  {
   "cell_type": "code",
   "execution_count": 10,
   "id": "fa9663cf",
   "metadata": {},
   "outputs": [
    {
     "name": "stdout",
     "output_type": "stream",
     "text": [
      "['SAF2015-66761-P', 'P12-BIO-1395', 'PI-0493-2016', '2007-2013', 'TEC1234-12345-C1-1-R', '92-266', 'QLK5-CT2002_02307']\n"
     ]
    }
   ],
   "source": [
    "print(re.findall(r'\\w*-\\w*-*\\w*-*\\w*-*\\w*',texto))"
   ]
  },
  {
   "cell_type": "code",
   "execution_count": 11,
   "id": "a67fe8a9",
   "metadata": {},
   "outputs": [
    {
     "name": "stdout",
     "output_type": "stream",
     "text": [
      "['05704333B']\n"
     ]
    }
   ],
   "source": [
    "############################## Si es una persona Física:\n",
    "### Función Verificación NIFs y obtención de la personalidad jurídica: \n",
    "# I. Si es una persona física:\n",
    "# 1.1. Nacional: 00000000x\n",
    "#La letra puede ser cualquiera de A-Z\n",
    "print(re.findall(r'\\d\\d\\d\\d\\d\\d\\d\\d[A-Z]',\"05704333B\"))"
   ]
  },
  {
   "cell_type": "code",
   "execution_count": 12,
   "id": "d146fe2b",
   "metadata": {},
   "outputs": [
    {
     "name": "stdout",
     "output_type": "stream",
     "text": [
      "['M5704333B']\n"
     ]
    }
   ],
   "source": [
    "# 1.2. ExtranJera:x0000000x\n",
    "#La primera letra corresponde a: M, X, Y, Z\n",
    "#La última letra puede ser cualquiera de A-Z\n",
    "print(re.findall(r'[M,X,Y,Z]\\d\\d\\d\\d\\d\\d\\d[A-Z]',\"M5704333B\"))"
   ]
  },
  {
   "cell_type": "code",
   "execution_count": 13,
   "id": "68b58d8e",
   "metadata": {},
   "outputs": [
    {
     "name": "stdout",
     "output_type": "stream",
     "text": [
      "['M57043331']\n"
     ]
    }
   ],
   "source": [
    "##############################  Persona Jurídica: TPPNNNNNC\n",
    "# 1.3.\n",
    "# 123456789\n",
    "# 1: Letra acorde a la tabla que está arriba\n",
    "# 2 y3: Provincia de España a la que pertenece\n",
    "# 4,5,6,7,8 Números como si fueran aleatorios (tendrán un significado pero no nos interesa)\n",
    "# 9: puede ser o un número (0-9) o una letra (A-Z)\n",
    "print(re.findall(r'[A,B,C,D,E,F,G,H,J,K,L,M,N,P,Q,R,S,U,V,W]\\d\\d\\d\\d\\d\\d\\d\\d*[A-Z]*',\"M57043331\"))"
   ]
  },
  {
   "cell_type": "code",
   "execution_count": 14,
   "id": "065c7a2d",
   "metadata": {},
   "outputs": [],
   "source": [
    "def verificacionFisicaJuridicaNIF(codigo):\n",
    "    patron_fisica_nacional=r'\\d\\d\\d\\d\\d\\d\\d\\d[A-Z]'\n",
    "    patron_fisica_extranjera=r'[M,X,Y,Z]\\d\\d\\d\\d\\d\\d\\d[A-Z]'\n",
    "    patron_persona_juridica=r'[A,B,C,D,E,F,G,H,J,K,L,M,N,P,Q,R,S,U,V,W]\\d\\d\\d\\d\\d\\d\\d\\d*[A-Z]*'\n",
    "    #try:\n",
    "    resultado=\"\"\n",
    "    if codigo==None:\n",
    "        codigo=\"\"\n",
    "    nif_fisica_nacional=re.findall(patron_fisica_nacional,codigo)\n",
    "    #print(len(nif_fisica_nacional))\n",
    "    nif_fisica_extranjera=re.findall(patron_fisica_extranjera,codigo)\n",
    "    nif_juridica=re.findall(patron_persona_juridica,codigo)\n",
    "    if len(codigo)==9:\n",
    "        if len(nif_fisica_nacional)>0:\n",
    "            resultado=\"NIF persona física nacional\"\n",
    "        if len(nif_fisica_extranjera)>0:\n",
    "            resultado=\"NIF persona física extranjera\"\n",
    "        if len(nif_juridica)>0:\n",
    "            #resultado=\"3\"\n",
    "            caracter_juridico=str(codigo[0:1])\n",
    "            if caracter_juridico==\"A\":\n",
    "                resultado = \"Sociedad Anónima.\"\n",
    "            elif caracter_juridico==\"B\":\n",
    "                resultado = \"Sociedad de responsabilidad limitada.\"\n",
    "            elif caracter_juridico==\"C\":\n",
    "                resultado = \"Sociedad colectiva.\"\n",
    "            elif caracter_juridico==\"D\":\n",
    "                resultado = \"Sociedad comanditaria.\"\n",
    "            elif caracter_juridico==\"E\":\n",
    "                resultado = \"Comunidad de bienes y herencias yacentes.\"\n",
    "            elif caracter_juridico==\"F\":\n",
    "                resultado = \"Sociedad cooperativa.\"\n",
    "            elif caracter_juridico==\"G\":\n",
    "                resultado = \"Asociaciones.\"\n",
    "            elif caracter_juridico==\"H\":\n",
    "                resultado = \"Comunidad de propietarios en régimen de propiedad horizontal.\"\n",
    "            elif caracter_juridico==\"J\":\n",
    "                resultado = \"Sociedades Civiles, con o sin personalidad jurídica.\"\n",
    "            elif caracter_juridico==\"K\":\n",
    "                resultado = \"Formato antiguo, en desuso.\"\n",
    "            elif caracter_juridico==\"L\":\n",
    "                resultado = \"Formato antiguo, en desuso.\"\n",
    "            elif caracter_juridico==\"M\":\n",
    "                resultado = \"Formato antiguo, en desuso.\"\n",
    "            elif caracter_juridico==\"N\":\n",
    "                resultado = \"Entidades extranjeras.\"\n",
    "            elif caracter_juridico==\"P\":\n",
    "                resultado = \"Corporación local.\"\n",
    "            elif caracter_juridico==\"Q\":\n",
    "                resultado = \"Organismo público\"\n",
    "            elif caracter_juridico==\"R\":\n",
    "                resultado = \"Congregaciones e Instituciones Religiosas.\"\n",
    "            elif caracter_juridico==\"S\":\n",
    "                resultado = \"Órganos de la Administración del Estado y Comunidades Autónomas.\"\n",
    "            elif caracter_juridico==\"U\":\n",
    "                resultado = \"Uniones temporales de Empresas.\"\n",
    "            elif caracter_juridico==\"V\":\n",
    "                resultado = \"Otros tipos no definidos en el resto de claves.\"\n",
    "            elif caracter_juridico==\"W\":\n",
    "                resultado = \"Establecimientos permanentes de entidades no residentes en España.\"\n",
    "            else:\n",
    "                resultado = \"\"\n",
    "    #except: \n",
    "    #    return None\n",
    "    #return resultado,codigo\n",
    "    return resultado\n",
    "\n",
    "UDF_verificacionFisicaJuridicaNIF = udf(verificacionFisicaJuridicaNIF, StringType())"
   ]
  },
  {
   "cell_type": "code",
   "execution_count": 15,
   "id": "43888cfc",
   "metadata": {},
   "outputs": [
    {
     "name": "stdout",
     "output_type": "stream",
     "text": [
      "Sociedad Anónima.\n"
     ]
    }
   ],
   "source": [
    "valor1=verificacionFisicaJuridicaNIF('A57043338')\n",
    "print(valor1)"
   ]
  },
  {
   "cell_type": "code",
   "execution_count": 16,
   "id": "52ed0f4c",
   "metadata": {},
   "outputs": [],
   "source": [
    "#Crear Dataframe Spark personas\n",
    "schemaPersona = StructType([\n",
    "    StructField(\"NIF\", StringType(),True),\n",
    "    StructField(\"VALIDACION\", StringType(),True)\n",
    "])\n",
    "\n",
    "dataPersona = ([(\"05704333B\",None),\n",
    "                (\"X5704333B\",None),\n",
    "                (\"A57043338\",None),\n",
    "                (\"B57043338\",None),\n",
    "                (\"C57043338\",None),\n",
    "                (\"D57043338\",None),\n",
    "                (\"E57043338\",None),\n",
    "                (\"F57043338\",None),\n",
    "                (\"G57043338\",None),\n",
    "                (\"H57043338\",None),\n",
    "                (\"I57043338\",None),\n",
    "                (\"J57043338\",None),\n",
    "                (\"K57043338\",None),\n",
    "                (\"L5704333C\",None),\n",
    "                (\"M5704333C\",None),\n",
    "                (\"N5704333C\",None),\n",
    "                (\"O5704333C\",None),\n",
    "                (\"P5704333C\",None),\n",
    "                (\"Q5704333C\",None),\n",
    "                (\"R57043338\",None),\n",
    "                (\"S57043338\",None),\n",
    "                (\"T57043338\",None),\n",
    "                (\"U57043338\",None),\n",
    "                (\"V57043338\",None),\n",
    "                (\"W57043338\",None),\n",
    "                (\"Y57043338\",None),\n",
    "                (\"Z57043338\",None),\n",
    "                (\"A5704333\",None),\n",
    "                (\"\",None),\n",
    "                (None,None),\n",
    "                \n",
    "               ])\n",
    "\n",
    "df_personasX=spark.createDataFrame(dataPersona,schema=schemaPersona)"
   ]
  },
  {
   "cell_type": "code",
   "execution_count": 17,
   "id": "3b529366",
   "metadata": {},
   "outputs": [
    {
     "name": "stdout",
     "output_type": "stream",
     "text": [
      "+---------+----------+\n",
      "|      NIF|VALIDACION|\n",
      "+---------+----------+\n",
      "|05704333B|      null|\n",
      "|X5704333B|      null|\n",
      "|A57043338|      null|\n",
      "|B57043338|      null|\n",
      "|C57043338|      null|\n",
      "|D57043338|      null|\n",
      "|E57043338|      null|\n",
      "|F57043338|      null|\n",
      "|G57043338|      null|\n",
      "|H57043338|      null|\n",
      "|I57043338|      null|\n",
      "|J57043338|      null|\n",
      "|K57043338|      null|\n",
      "|L5704333C|      null|\n",
      "|M5704333C|      null|\n",
      "|N5704333C|      null|\n",
      "|O5704333C|      null|\n",
      "|P5704333C|      null|\n",
      "|Q5704333C|      null|\n",
      "|R57043338|      null|\n",
      "+---------+----------+\n",
      "only showing top 20 rows\n",
      "\n"
     ]
    }
   ],
   "source": [
    "df_personasX.show()"
   ]
  },
  {
   "cell_type": "code",
   "execution_count": 18,
   "id": "6780f988",
   "metadata": {},
   "outputs": [],
   "source": [
    "df_personasX=df_personasX.withColumn(\"VALIDACION\",UDF_verificacionFisicaJuridicaNIF(col(\"NIF\")))"
   ]
  },
  {
   "cell_type": "code",
   "execution_count": 19,
   "id": "3e924613",
   "metadata": {},
   "outputs": [
    {
     "name": "stdout",
     "output_type": "stream",
     "text": [
      "+---------+------------------------------------------------------------------+\n",
      "|NIF      |VALIDACION                                                        |\n",
      "+---------+------------------------------------------------------------------+\n",
      "|05704333B|NIF persona física nacional                                       |\n",
      "|X5704333B|NIF persona física extranjera                                     |\n",
      "|A57043338|Sociedad Anónima.                                                 |\n",
      "|B57043338|Sociedad de responsabilidad limitada.                             |\n",
      "|C57043338|Sociedad colectiva.                                               |\n",
      "|D57043338|Sociedad comanditaria.                                            |\n",
      "|E57043338|Comunidad de bienes y herencias yacentes.                         |\n",
      "|F57043338|Sociedad cooperativa.                                             |\n",
      "|G57043338|Asociaciones.                                                     |\n",
      "|H57043338|Comunidad de propietarios en régimen de propiedad horizontal.     |\n",
      "|I57043338|                                                                  |\n",
      "|J57043338|Sociedades Civiles, con o sin personalidad jurídica.              |\n",
      "|K57043338|Formato antiguo, en desuso.                                       |\n",
      "|L5704333C|Formato antiguo, en desuso.                                       |\n",
      "|M5704333C|Formato antiguo, en desuso.                                       |\n",
      "|N5704333C|Entidades extranjeras.                                            |\n",
      "|O5704333C|                                                                  |\n",
      "|P5704333C|Corporación local.                                                |\n",
      "|Q5704333C|Organismo público                                                 |\n",
      "|R57043338|Congregaciones e Instituciones Religiosas.                        |\n",
      "|S57043338|Órganos de la Administración del Estado y Comunidades Autónomas.  |\n",
      "|T57043338|                                                                  |\n",
      "|U57043338|Uniones temporales de Empresas.                                   |\n",
      "|V57043338|Otros tipos no definidos en el resto de claves.                   |\n",
      "|W57043338|Establecimientos permanentes de entidades no residentes en España.|\n",
      "|Y57043338|                                                                  |\n",
      "|Z57043338|                                                                  |\n",
      "|A5704333 |                                                                  |\n",
      "|         |                                                                  |\n",
      "|null     |                                                                  |\n",
      "+---------+------------------------------------------------------------------+\n",
      "\n"
     ]
    }
   ],
   "source": [
    "df_personasX.show(30,False)"
   ]
  },
  {
   "cell_type": "markdown",
   "id": "3c967c69",
   "metadata": {},
   "source": [
    "# Help\n",
    "https://regex101.com/\n",
    "\n",
    "https://github.com/ifrankandrade/data_preprocessing/blob/main/regex/caracteres_regex.txt\n",
    "\n",
    "https://www.youtube.com/watch?v=Mc2j8Q-MHB4\n",
    "\n",
    "https://www.youtube.com/watch?v=wfogZfIS03U\n",
    "\n",
    "https://relopezbriega.github.io/blog/2015/07/19/expresiones-regulares-con-python/"
   ]
  }
 ],
 "metadata": {
  "kernelspec": {
   "display_name": "Python 3 (ipykernel)",
   "language": "python",
   "name": "python3"
  },
  "language_info": {
   "codemirror_mode": {
    "name": "ipython",
    "version": 3
   },
   "file_extension": ".py",
   "mimetype": "text/x-python",
   "name": "python",
   "nbconvert_exporter": "python",
   "pygments_lexer": "ipython3",
   "version": "3.9.7"
  }
 },
 "nbformat": 4,
 "nbformat_minor": 5
}
