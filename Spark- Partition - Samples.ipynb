{
 "cells": [
  {
   "cell_type": "code",
   "execution_count": null,
   "id": "d5106a75",
   "metadata": {},
   "outputs": [],
   "source": [
    "##########################################################################################################\n",
    "# VERSION  \tDESARROLLADOR             FECHA        DESCRIPCION\n",
    "# -------------------------------------------------------------\n",
    "#  1        Walter Albites Azarte     10/12/2021   Curso PySpark Entorno Local - Dataframe\n",
    "##########################################################################################################"
   ]
  },
  {
   "cell_type": "code",
   "execution_count": 2,
   "id": "76caa7d1",
   "metadata": {},
   "outputs": [
    {
     "data": {
      "text/plain": [
       "'C:\\\\spark-3.1.2-bin-hadoop2.7'"
      ]
     },
     "execution_count": 2,
     "metadata": {},
     "output_type": "execute_result"
    }
   ],
   "source": [
    "import findspark\n",
    "findspark.init()\n",
    "findspark.find()"
   ]
  },
  {
   "cell_type": "code",
   "execution_count": 3,
   "id": "a7d245db",
   "metadata": {},
   "outputs": [],
   "source": [
    "import pyspark\n",
    "from pyspark import SparkContext, SparkConf\n",
    "from pyspark.sql import SparkSession\n",
    "conf= pyspark.SparkConf().setAppName('SparkApp').setMaster('local')\n",
    "sc = pyspark.SparkContext(conf=conf)\n",
    "spark=SparkSession(sc)"
   ]
  },
  {
   "cell_type": "code",
   "execution_count": 5,
   "id": "7457b03c",
   "metadata": {},
   "outputs": [],
   "source": [
    "from pyspark.sql.types import *\n",
    "from pyspark.sql.functions import *"
   ]
  },
  {
   "cell_type": "code",
   "execution_count": null,
   "id": "e2cd005d",
   "metadata": {},
   "outputs": [],
   "source": [
    "################################################################ I Trabajar con Muestras"
   ]
  },
  {
   "cell_type": "code",
   "execution_count": 6,
   "id": "5ffc4890",
   "metadata": {},
   "outputs": [],
   "source": [
    "path=r\"ubigeo.csv\""
   ]
  },
  {
   "cell_type": "code",
   "execution_count": 7,
   "id": "07980441",
   "metadata": {},
   "outputs": [],
   "source": [
    "df_ubigeo = (spark\n",
    "  .read\n",
    "  .options(header=True,encoding=\"utf-8\")\n",
    "  .csv(path)\n",
    ")"
   ]
  },
  {
   "cell_type": "code",
   "execution_count": 8,
   "id": "5a0cac5a",
   "metadata": {},
   "outputs": [
    {
     "name": "stdout",
     "output_type": "stream",
     "text": [
      "+------+----------------------------+----------+------------+------------+------------+\n",
      "|UBIGEO|DISTRITO                    |PROVINCIA |DEPARTAMENTO|LATITUD     |LONGITUD    |\n",
      "+------+----------------------------+----------+------------+------------+------------+\n",
      "|060401|CHOTA                       |CHOTA     |CAJAMARCA   |-6.555281874|-78.64146956|\n",
      "|010302|CHISQUILLA                  |BONGARA   |AMAZONAS    |-5.89320537 |-77.78280858|\n",
      "|120807|SANTA BARBARA DE CARHUACAYAN|YAULI     |JUNÍN       |-11.21381302|-76.42904358|\n",
      "|140304|JAYANCA                     |LAMBAYEQUE|LAMBAYEQUE  |-6.394345534|-79.81451536|\n",
      "|200601|SULLANA                     |SULLANA   |PIURA       |-4.898786419|-80.63618267|\n",
      "+------+----------------------------+----------+------------+------------+------------+\n",
      "only showing top 5 rows\n",
      "\n"
     ]
    }
   ],
   "source": [
    "df_ubigeo.show(5,False)"
   ]
  },
  {
   "cell_type": "code",
   "execution_count": 9,
   "id": "ca866ee4",
   "metadata": {},
   "outputs": [
    {
     "data": {
      "text/plain": [
       "1814"
      ]
     },
     "execution_count": 9,
     "metadata": {},
     "output_type": "execute_result"
    }
   ],
   "source": [
    "df_ubigeo.count()"
   ]
  },
  {
   "cell_type": "code",
   "execution_count": 10,
   "id": "7f3be89b",
   "metadata": {},
   "outputs": [],
   "source": [
    "#Trabajar con una muestra del 10%\n",
    "df_ubigeo_muestra = (spark\n",
    "  .read\n",
    "  .options(header=True,encoding=\"utf-8\")\n",
    "  .csv(path)\n",
    "  .sample(withReplacement=False, fraction=0.1, seed=3) \n",
    "  # El parámetro fraction representa la fracción aproximada del conjunto de datos que se devolverá. Por ejemplo, si lo establece en 0.3 , se devolverá el 30% (3/10) de las filas\n",
    "  # seed semilla indica un valor para indentificar la muestra aleatoria, para la siguiente lectura salgan los mismos valores seed=3\n",
    ")"
   ]
  },
  {
   "cell_type": "code",
   "execution_count": 11,
   "id": "b5311b75",
   "metadata": {},
   "outputs": [
    {
     "data": {
      "text/plain": [
       "166"
      ]
     },
     "execution_count": 11,
     "metadata": {},
     "output_type": "execute_result"
    }
   ],
   "source": [
    "df_ubigeo_muestra.count()"
   ]
  },
  {
   "cell_type": "code",
   "execution_count": 12,
   "id": "14aa3dff",
   "metadata": {},
   "outputs": [
    {
     "name": "stdout",
     "output_type": "stream",
     "text": [
      "+-------------+-----+\n",
      "| DEPARTAMENTO|count|\n",
      "+-------------+-----+\n",
      "|     AYACUCHO|    9|\n",
      "|        JUNÍN|   12|\n",
      "|       CALLAO|    1|\n",
      "|  LA LIBERTAD|    7|\n",
      "|        PASCO|    1|\n",
      "|      HUÁNUCO|   11|\n",
      "|     AMAZONAS|    7|\n",
      "|      UCAYALI|    3|\n",
      "|       TUMBES|    4|\n",
      "|         PUNO|   12|\n",
      "|     AREQUIPA|    6|\n",
      "|   LAMBAYEQUE|    1|\n",
      "|MADRE DE DIOS|    2|\n",
      "|   SAN MARTÍN|    5|\n",
      "|        PIURA|    5|\n",
      "| HUANCAVELICA|    7|\n",
      "|       LORETO|    5|\n",
      "|    CAJAMARCA|    9|\n",
      "|     MOQUEGUA|    1|\n",
      "|        TACNA|    2|\n",
      "+-------------+-----+\n",
      "only showing top 20 rows\n",
      "\n"
     ]
    }
   ],
   "source": [
    "df_ubigeo_muestra.groupBy(\"DEPARTAMENTO\").count().show()"
   ]
  },
  {
   "cell_type": "code",
   "execution_count": 13,
   "id": "4f5270c4",
   "metadata": {},
   "outputs": [
    {
     "name": "stdout",
     "output_type": "stream",
     "text": [
      "+------+--------------------+-------------+------------+------------+------------+\n",
      "|UBIGEO|            DISTRITO|    PROVINCIA|DEPARTAMENTO|     LATITUD|    LONGITUD|\n",
      "+------+--------------------+-------------+------------+------------+------------+\n",
      "|050202|             CHUSCHI|     CANGALLO|    AYACUCHO|-13.57239926|-74.34210636|\n",
      "|050401|              HUANTA|       HUANTA|    AYACUCHO|-12.93972363|  -74.241675|\n",
      "|050507|          SANTA ROSA|       LA MAR|    AYACUCHO| -12.7024565|-73.73450008|\n",
      "|050402|           AYAHUANCO|       HUANTA|    AYACUCHO|-12.50474429|-74.39566612|\n",
      "|050205|               PARAS|     CANGALLO|    AYACUCHO| -13.4775722|-74.75396919|\n",
      "|050707|SAN FRANCISCO DE ...| PARINACOCHAS|    AYACUCHO|-14.99751759|-73.35565948|\n",
      "|050302|              CARAPO|HUANCA SANCOS|    AYACUCHO|-13.79063916|-74.33128929|\n",
      "|050611|             LUCANAS|      LUCANAS|    AYACUCHO|-14.58239555|-74.25015259|\n",
      "|050705|               PULLO| PARINACOCHAS|    AYACUCHO|-15.30154737|-73.89770253|\n",
      "+------+--------------------+-------------+------------+------------+------------+\n",
      "\n"
     ]
    }
   ],
   "source": [
    "df_ubigeo_muestra.filter(col(\"DEPARTAMENTO\")==\"AYACUCHO\").show()"
   ]
  },
  {
   "cell_type": "code",
   "execution_count": 14,
   "id": "5e635007",
   "metadata": {},
   "outputs": [
    {
     "data": {
      "text/plain": [
       "166"
      ]
     },
     "execution_count": 14,
     "metadata": {},
     "output_type": "execute_result"
    }
   ],
   "source": [
    "#Verificamos la semilla ejecutamos de nuevo\n",
    "df_ubigeo_muestra_2 = (spark\n",
    "  .read\n",
    "  .options(header=True,encoding=\"utf-8\")\n",
    "  .csv(path)\n",
    "  .sample(withReplacement=False, fraction=0.1, seed=3) \n",
    "  # El parámetro fraction representa la fracción aproximada del conjunto de datos que se devolverá. Por ejemplo, si lo establece en 0.3 , se devolverá el 30% (3/10) de las filas\n",
    "  # seed semilla indica un valor para indentificar la muestra aleatoria, para la siguiente lectura salgan los mismos valores \n",
    ")\n",
    "df_ubigeo_muestra.count()"
   ]
  },
  {
   "cell_type": "code",
   "execution_count": 15,
   "id": "243cbe2d",
   "metadata": {},
   "outputs": [
    {
     "name": "stdout",
     "output_type": "stream",
     "text": [
      "+-------------+-----+\n",
      "| DEPARTAMENTO|count|\n",
      "+-------------+-----+\n",
      "|     AYACUCHO|    9|\n",
      "|        JUNÍN|   12|\n",
      "|       CALLAO|    1|\n",
      "|  LA LIBERTAD|    7|\n",
      "|        PASCO|    1|\n",
      "|      HUÁNUCO|   11|\n",
      "|     AMAZONAS|    7|\n",
      "|      UCAYALI|    3|\n",
      "|       TUMBES|    4|\n",
      "|         PUNO|   12|\n",
      "|     AREQUIPA|    6|\n",
      "|   LAMBAYEQUE|    1|\n",
      "|MADRE DE DIOS|    2|\n",
      "|   SAN MARTÍN|    5|\n",
      "|        PIURA|    5|\n",
      "| HUANCAVELICA|    7|\n",
      "|       LORETO|    5|\n",
      "|    CAJAMARCA|    9|\n",
      "|     MOQUEGUA|    1|\n",
      "|        TACNA|    2|\n",
      "+-------------+-----+\n",
      "only showing top 20 rows\n",
      "\n"
     ]
    }
   ],
   "source": [
    "df_ubigeo_muestra_2.groupBy(\"DEPARTAMENTO\").count().show()"
   ]
  },
  {
   "cell_type": "code",
   "execution_count": 16,
   "id": "c3f5e3a3",
   "metadata": {},
   "outputs": [
    {
     "name": "stdout",
     "output_type": "stream",
     "text": [
      "+------+--------------------+-------------+------------+------------+------------+\n",
      "|UBIGEO|            DISTRITO|    PROVINCIA|DEPARTAMENTO|     LATITUD|    LONGITUD|\n",
      "+------+--------------------+-------------+------------+------------+------------+\n",
      "|050202|             CHUSCHI|     CANGALLO|    AYACUCHO|-13.57239926|-74.34210636|\n",
      "|050401|              HUANTA|       HUANTA|    AYACUCHO|-12.93972363|  -74.241675|\n",
      "|050507|          SANTA ROSA|       LA MAR|    AYACUCHO| -12.7024565|-73.73450008|\n",
      "|050402|           AYAHUANCO|       HUANTA|    AYACUCHO|-12.50474429|-74.39566612|\n",
      "|050205|               PARAS|     CANGALLO|    AYACUCHO| -13.4775722|-74.75396919|\n",
      "|050707|SAN FRANCISCO DE ...| PARINACOCHAS|    AYACUCHO|-14.99751759|-73.35565948|\n",
      "|050302|              CARAPO|HUANCA SANCOS|    AYACUCHO|-13.79063916|-74.33128929|\n",
      "|050611|             LUCANAS|      LUCANAS|    AYACUCHO|-14.58239555|-74.25015259|\n",
      "|050705|               PULLO| PARINACOCHAS|    AYACUCHO|-15.30154737|-73.89770253|\n",
      "+------+--------------------+-------------+------------+------------+------------+\n",
      "\n"
     ]
    }
   ],
   "source": [
    "df_ubigeo_muestra.filter(col(\"DEPARTAMENTO\")==\"AYACUCHO\").show()"
   ]
  },
  {
   "cell_type": "code",
   "execution_count": null,
   "id": "dc0cd180",
   "metadata": {},
   "outputs": [],
   "source": [
    "################################################################ II Partition\n",
    "# Vamos a realizar la particion por la columna Departamento"
   ]
  },
  {
   "cell_type": "code",
   "execution_count": 19,
   "id": "aaf40615",
   "metadata": {},
   "outputs": [],
   "source": [
    "df_ubigeo = (spark.read.options(header=True,encoding=\"utf8\").csv(path))"
   ]
  },
  {
   "cell_type": "code",
   "execution_count": 20,
   "id": "fcd975ec",
   "metadata": {},
   "outputs": [
    {
     "data": {
      "text/plain": [
       "1814"
      ]
     },
     "execution_count": 20,
     "metadata": {},
     "output_type": "execute_result"
    }
   ],
   "source": [
    "df_ubigeo.count()"
   ]
  },
  {
   "cell_type": "code",
   "execution_count": 21,
   "id": "99f810da",
   "metadata": {
    "scrolled": true
   },
   "outputs": [
    {
     "name": "stdout",
     "output_type": "stream",
     "text": [
      "+-------------+-----+\n",
      "| DEPARTAMENTO|count|\n",
      "+-------------+-----+\n",
      "|     AYACUCHO|  113|\n",
      "|        JUNÍN|  120|\n",
      "|       CALLAO|    6|\n",
      "|  LA LIBERTAD|   82|\n",
      "|        PASCO|   29|\n",
      "|     AMAZONAS|   81|\n",
      "|      HUÁNUCO|   77|\n",
      "|      UCAYALI|   15|\n",
      "|       TUMBES|   12|\n",
      "|     AREQUIPA|  101|\n",
      "|         PUNO|  107|\n",
      "|   LAMBAYEQUE|   38|\n",
      "|MADRE DE DIOS|   11|\n",
      "|   SAN MARTÍN|   76|\n",
      "|        PIURA|   64|\n",
      "| HUANCAVELICA|   97|\n",
      "|       LORETO|   51|\n",
      "|    CAJAMARCA|  127|\n",
      "|     MOQUEGUA|   19|\n",
      "|        TACNA|   27|\n",
      "|        CUSCO|  110|\n",
      "|          ICA|   43|\n",
      "|     APURÍMAC|   79|\n",
      "|       ANCASH|  162|\n",
      "|         LIMA|  167|\n",
      "+-------------+-----+\n",
      "\n"
     ]
    }
   ],
   "source": [
    "df_ubigeo.groupBy(\"DEPARTAMENTO\").count().show(25)"
   ]
  },
  {
   "cell_type": "code",
   "execution_count": null,
   "id": "491ec4a3",
   "metadata": {},
   "outputs": [],
   "source": [
    "### Escrituras en Pyspark"
   ]
  },
  {
   "cell_type": "code",
   "execution_count": null,
   "id": "5182efc4",
   "metadata": {},
   "outputs": [],
   "source": [
    "################# 2.1. Overwrite con particion de la columna Departamento"
   ]
  },
  {
   "cell_type": "code",
   "execution_count": 22,
   "id": "ab6c226f",
   "metadata": {},
   "outputs": [],
   "source": [
    "path_escritura=r'C:\\Users\\walbi\\Documents\\clientes'"
   ]
  },
  {
   "cell_type": "code",
   "execution_count": 23,
   "id": "5d090ce4",
   "metadata": {},
   "outputs": [],
   "source": [
    "df_ubigeo.write.option(\"header\",True) \\\n",
    "        .partitionBy(\"DEPARTAMENTO\") \\\n",
    "        .mode(\"overwrite\") \\\n",
    "        .csv(path_escritura + r\"\\DEPARTAMENTOS\")"
   ]
  },
  {
   "cell_type": "markdown",
   "id": "9bc75825",
   "metadata": {},
   "source": [
    "Al momento de hacer la particion se creara directorios por departamentos.<br>\n",
    "DEPARTAMENTO<br>\n",
    "..DEPARTAMENTO=AMAZONAS<br>\n",
    "...part-00000.csv<br>\n",
    "..DEPARTAMENTO=ANCASH<br>\n",
    "...part-00000.csv<br>\n",
    "..DEPARTAMENTO=..........."
   ]
  },
  {
   "cell_type": "code",
   "execution_count": 24,
   "id": "8c286a82",
   "metadata": {},
   "outputs": [
    {
     "name": "stdout",
     "output_type": "stream",
     "text": [
      "+------+--------------------+----------+------------+------------+\n",
      "|UBIGEO|            DISTRITO| PROVINCIA|     LATITUD|    LONGITUD|\n",
      "+------+--------------------+----------+------------+------------+\n",
      "|150407|SANTA ROSA DE QUIVES|     CANTA|-11.69496209|-76.89434487|\n",
      "|150601|              HUARAL|    HUARAL|-11.49022421|-77.20913506|\n",
      "|151025|            QUINOCAY|    YAUYOS|-12.34476233|-76.25241852|\n",
      "|151002|                ALIS|    YAUYOS|-12.29855967|-75.75381088|\n",
      "|150301|           CAJATAMBO| CAJATAMBO|-10.47623014|-76.99631119|\n",
      "|151003|             ALLAUCA|    YAUYOS|-12.65706778|-75.99522018|\n",
      "|150707|         HUACHUPAMPA|HUAROCHIRI|-11.71631622|-76.59506989|\n",
      "|150725|SAN PEDRO DE HUAN...|HUAROCHIRI| -12.1303978|-76.21650696|\n",
      "|151026|         SAN JOAQUIN|    YAUYOS|-12.28413105|-76.14685059|\n",
      "|150114|           LA MOLINA|      LIMA|-12.08761883|-76.93390656|\n",
      "|150120|   MAGDALENA DEL MAR|      LIMA|-12.09693909|-77.07473755|\n",
      "|150516|              ZUÑIGA|    CAÑETE|-12.85173289|-76.01387533|\n",
      "|150731|SANTO DOMINGO DE ...|HUAROCHIRI|-12.21827316|-76.51426697|\n",
      "|150404|              HUAROS|     CANTA| -11.4045701|-76.55167389|\n",
      "|151031|                TUPE|    YAUYOS|-12.74136257|-75.80941772|\n",
      "|150609|  SAN MIGUEL DE ACOS|    HUARAL|-11.27406216|-76.82061005|\n",
      "|150712|              LARAOS|HUAROCHIRI|-11.66455936|-76.53996277|\n",
      "|150113|         JESUS MARIA|      LIMA|-12.06999874|-77.04524231|\n",
      "|150122|          MIRAFLORES|      LIMA|-12.11752892|-77.04541016|\n",
      "|150115|         LA VICTORIA|      LIMA|-12.06533909| -77.0309906|\n",
      "+------+--------------------+----------+------------+------------+\n",
      "only showing top 20 rows\n",
      "\n"
     ]
    }
   ],
   "source": [
    "#Comprobar todas las particiones\n",
    "df_ubigeo_x=spark.read.option(\"header\", True).csv(path_escritura+r\"\\DEPARTAMENTOS\"+r\"\\DEPARTAMENTO=*\")\n",
    "df_ubigeo_x.show()\n",
    "# Si se dan cuenta no se agrega la columna departamento"
   ]
  },
  {
   "cell_type": "code",
   "execution_count": 26,
   "id": "233e3460",
   "metadata": {},
   "outputs": [
    {
     "name": "stdout",
     "output_type": "stream",
     "text": [
      "+------+----------------------+----------+------------+------------+------------+\n",
      "|UBIGEO|DISTRITO              |PROVINCIA |LATITUD     |LONGITUD    |DEPARTAMENTO|\n",
      "+------+----------------------+----------+------------+------------+------------+\n",
      "|150407|SANTA ROSA DE QUIVES  |CANTA     |-11.69496209|-76.89434487|LIMA        |\n",
      "|150601|HUARAL                |HUARAL    |-11.49022421|-77.20913506|LIMA        |\n",
      "|151025|QUINOCAY              |YAUYOS    |-12.34476233|-76.25241852|LIMA        |\n",
      "|151002|ALIS                  |YAUYOS    |-12.29855967|-75.75381088|LIMA        |\n",
      "|150301|CAJATAMBO             |CAJATAMBO |-10.47623014|-76.99631119|LIMA        |\n",
      "|151003|ALLAUCA               |YAUYOS    |-12.65706778|-75.99522018|LIMA        |\n",
      "|150707|HUACHUPAMPA           |HUAROCHIRI|-11.71631622|-76.59506989|LIMA        |\n",
      "|150725|SAN PEDRO DE HUANCAYRE|HUAROCHIRI|-12.1303978 |-76.21650696|LIMA        |\n",
      "|151026|SAN JOAQUIN           |YAUYOS    |-12.28413105|-76.14685059|LIMA        |\n",
      "|150114|LA MOLINA             |LIMA      |-12.08761883|-76.93390656|LIMA        |\n",
      "+------+----------------------+----------+------------+------------+------------+\n",
      "only showing top 10 rows\n",
      "\n"
     ]
    }
   ],
   "source": [
    "#Comprobar con la columna de Particion agregando la columna de particion en el dataframe\n",
    "path_lectura=\"C://Users//walbi//Documents//clientes//DEPARTAMENTOS//DEPARTAMENTO=*\"\n",
    "df_ubigeo_y = spark.read.option(\"header\", True).option(\"basePath\", path_lectura[:path_lectura.rfind(\"/\")]).csv(path_lectura)\n",
    "df_ubigeo_y.show(10,False)"
   ]
  },
  {
   "cell_type": "code",
   "execution_count": 27,
   "id": "30b3a56a",
   "metadata": {},
   "outputs": [
    {
     "name": "stdout",
     "output_type": "stream",
     "text": [
      "+------+----------------------+--------------------+------------+------------+------------+\n",
      "|UBIGEO|DISTRITO              |PROVINCIA           |LATITUD     |LONGITUD    |DEPARTAMENTO|\n",
      "+------+----------------------+--------------------+------------+------------+------------+\n",
      "|010302|CHISQUILLA            |BONGARA             |-5.89320537 |-77.78280858|AMAZONAS    |\n",
      "|010506|INGUILPATA            |LUYA                |-6.258934402|-77.98439636|AMAZONAS    |\n",
      "|010109|LA JALCA              |CHACHAPOYAS         |-6.494380988|-77.81444726|AMAZONAS    |\n",
      "|010519|SAN JUAN DE LOPECANCHA|LUYA                |-6.505552496|-77.87023054|AMAZONAS    |\n",
      "|010110|LEIMEBAMBA            |CHACHAPOYAS         |-6.689430658|-77.80252659|AMAZONAS    |\n",
      "|010608|MILPUC                |RODRIGUEZ DE MENDOZA|-6.496859074|-77.42358398|AMAZONAS    |\n",
      "|010306|FLORIDA               |BONGARA             |-5.837375323|-77.95561091|AMAZONAS    |\n",
      "|010112|MAGDALENA             |CHACHAPOYAS         |-6.408820868|-77.8603096 |AMAZONAS    |\n",
      "|010707|YAMON                 |UTCUBAMBA           |-6.013111909|-78.50360107|AMAZONAS    |\n",
      "|010120|SOLOCO                |CHACHAPOYAS         |-6.254879951|-77.75582123|AMAZONAS    |\n",
      "+------+----------------------+--------------------+------------+------------+------------+\n",
      "only showing top 10 rows\n",
      "\n"
     ]
    }
   ],
   "source": [
    "#Si queremos una particion especifica\n",
    "path_lectura=\"C://Users//walbi//Documents//clientes//DEPARTAMENTOS//DEPARTAMENTO=AMAZONAS\"\n",
    "df_ubigeo_amazonas = spark.read.option(\"header\", True).option(\"basePath\", path_lectura[:path_lectura.rfind(\"/\")]).csv(path_lectura)\n",
    "df_ubigeo_amazonas.show(10,False)"
   ]
  },
  {
   "cell_type": "code",
   "execution_count": null,
   "id": "7abc68b9",
   "metadata": {},
   "outputs": [],
   "source": [
    "################################## 2.2. Append con Particion"
   ]
  },
  {
   "cell_type": "code",
   "execution_count": 28,
   "id": "7412f420",
   "metadata": {},
   "outputs": [],
   "source": [
    "from datetime import datetime"
   ]
  },
  {
   "cell_type": "code",
   "execution_count": 29,
   "id": "28bd8d8c",
   "metadata": {},
   "outputs": [
    {
     "name": "stdout",
     "output_type": "stream",
     "text": [
      "+--------+--------+----------+\n",
      "|     dni|   saldo|     fecha|\n",
      "+--------+--------+----------+\n",
      "|29999999| 10000.0|2022-03-27|\n",
      "|28888888|   450.0|2022-03-27|\n",
      "|29999999|   500.0|2022-03-28|\n",
      "|28888888|   400.0|2022-03-28|\n",
      "|29999999|   450.0|2022-03-29|\n",
      "|28888888|   350.0|2022-03-29|\n",
      "|29999999|   400.0|2022-03-30|\n",
      "|28888888|   300.0|2022-03-30|\n",
      "|29999999|   400.0|2022-03-31|\n",
      "|28888888|   300.0|2022-03-31|\n",
      "|29999999|   400.0|2022-04-01|\n",
      "|28888888|100000.0|2022-04-01|\n",
      "+--------+--------+----------+\n",
      "\n"
     ]
    }
   ],
   "source": [
    "#Crear Dataframe Spark Movimientos\n",
    "schemaMovimientos = StructType([\n",
    "    StructField(\"dni\", StringType(),True),\n",
    "    StructField(\"saldo\", FloatType(),True),\n",
    "    StructField(\"fecha\", DateType(),True)\n",
    "])\n",
    "\n",
    "dataMovimientos = ([(\"29999999\", 10000.00,datetime.strptime('2022-03-27','%Y-%m-%d')),\n",
    "                (\"28888888\", 450.00,datetime.strptime('2022-03-27','%Y-%m-%d')),\n",
    "                    (\"29999999\", 500.00,datetime.strptime('2022-03-28','%Y-%m-%d')),\n",
    "                (\"28888888\", 400.00,datetime.strptime('2022-03-28','%Y-%m-%d')),\n",
    "                     (\"29999999\", 450.00,datetime.strptime('2022-03-29','%Y-%m-%d')),\n",
    "                (\"28888888\", 350.00,datetime.strptime('2022-03-29','%Y-%m-%d')),\n",
    "                    (\"29999999\", 400.00,datetime.strptime('2022-03-30','%Y-%m-%d')),\n",
    "                (\"28888888\", 300.00,datetime.strptime('2022-03-30','%Y-%m-%d')),\n",
    "                    (\"29999999\", 400.00,datetime.strptime('2022-03-31','%Y-%m-%d')),\n",
    "                (\"28888888\", 300.00,datetime.strptime('2022-03-31','%Y-%m-%d')),\n",
    "                     (\"29999999\", 400.00,datetime.strptime('2022-04-01','%Y-%m-%d')),\n",
    "                (\"28888888\", 100000.00,datetime.strptime('2022-04-01','%Y-%m-%d'))\n",
    "               ])\n",
    "\n",
    "df_movimientos=spark.createDataFrame(dataMovimientos,schema=schemaMovimientos)\n",
    "df_movimientos.show()"
   ]
  },
  {
   "cell_type": "code",
   "execution_count": 30,
   "id": "74c3b79e",
   "metadata": {},
   "outputs": [],
   "source": [
    "path_escritura=r'C:\\Users\\walbi\\Documents\\clientes'"
   ]
  },
  {
   "cell_type": "code",
   "execution_count": 31,
   "id": "dc86c799",
   "metadata": {},
   "outputs": [],
   "source": [
    "df_movimientos.write.option(\"header\",True) \\\n",
    "        .partitionBy(\"fecha\") \\\n",
    "        .mode(\"append\") \\\n",
    "        .csv(path_escritura + r\"\\MOVIMIENTOS\")"
   ]
  },
  {
   "cell_type": "code",
   "execution_count": 34,
   "id": "1d1ee0c2",
   "metadata": {},
   "outputs": [],
   "source": [
    "#Comprobar con la fecha de particion \n",
    "path_lectura=\"C://Users//walbi//Documents//clientes//MOVIMIENTOS//fecha=*\"\n",
    "df_movimientos_y = spark.read.option(\"header\", True).option(\"basePath\", path_lectura[:path_lectura.rfind(\"/\")]).csv(path_lectura)"
   ]
  },
  {
   "cell_type": "code",
   "execution_count": 35,
   "id": "a9a20d54",
   "metadata": {},
   "outputs": [
    {
     "name": "stdout",
     "output_type": "stream",
     "text": [
      "+--------+--------+----------+\n",
      "|dni     |saldo   |fecha     |\n",
      "+--------+--------+----------+\n",
      "|29999999|400.0   |2022-04-01|\n",
      "|28888888|100000.0|2022-04-01|\n",
      "|29999999|10000.0 |2022-03-27|\n",
      "|28888888|450.0   |2022-03-27|\n",
      "|29999999|400.0   |2022-03-31|\n",
      "|28888888|300.0   |2022-03-31|\n",
      "|29999999|450.0   |2022-03-29|\n",
      "|28888888|350.0   |2022-03-29|\n",
      "|29999999|500.0   |2022-03-28|\n",
      "|28888888|400.0   |2022-03-28|\n",
      "|29999999|400.0   |2022-03-30|\n",
      "|28888888|300.0   |2022-03-30|\n",
      "+--------+--------+----------+\n",
      "\n"
     ]
    }
   ],
   "source": [
    "df_movimientos_y.show(20,False)"
   ]
  },
  {
   "cell_type": "code",
   "execution_count": 36,
   "id": "36c338d4",
   "metadata": {},
   "outputs": [
    {
     "name": "stdout",
     "output_type": "stream",
     "text": [
      "+--------+--------+----------+\n",
      "|     dni|   saldo|     fecha|\n",
      "+--------+--------+----------+\n",
      "|29999999|   400.0|2022-04-02|\n",
      "|28888888|100000.0|2022-04-02|\n",
      "+--------+--------+----------+\n",
      "\n"
     ]
    }
   ],
   "source": [
    "#Crear Dataframe Spark Movimientos diario\n",
    "schemaMovimientos = StructType([\n",
    "    StructField(\"dni\", StringType(),True),\n",
    "    StructField(\"saldo\", FloatType(),True),\n",
    "    StructField(\"fecha\", DateType(),True)\n",
    "])\n",
    "\n",
    "dataMovimientos = ([(\"29999999\", 400.00,datetime.strptime('2022-04-02','%Y-%m-%d')),\n",
    "                (\"28888888\", 100000.00,datetime.strptime('2022-04-02','%Y-%m-%d'))\n",
    "               ])\n",
    "\n",
    "df_movimientos_diario=spark.createDataFrame(dataMovimientos,schema=schemaMovimientos)\n",
    "df_movimientos_diario.show()"
   ]
  },
  {
   "cell_type": "code",
   "execution_count": 37,
   "id": "6624b6cb",
   "metadata": {},
   "outputs": [],
   "source": [
    "# Adicionar la fecha nueva\n",
    "df_movimientos_diario.write.option(\"header\",True) \\\n",
    "        .partitionBy(\"fecha\") \\\n",
    "        .mode(\"append\") \\\n",
    "        .csv(path_escritura + r\"\\MOVIMIENTOS\")"
   ]
  },
  {
   "cell_type": "code",
   "execution_count": 41,
   "id": "36354b2c",
   "metadata": {},
   "outputs": [
    {
     "name": "stdout",
     "output_type": "stream",
     "text": [
      "+--------+--------+----------+\n",
      "|     dni|   saldo|     fecha|\n",
      "+--------+--------+----------+\n",
      "|29999999|   400.0|2022-04-02|\n",
      "|28888888|100000.0|2022-04-02|\n",
      "+--------+--------+----------+\n",
      "\n"
     ]
    }
   ],
   "source": [
    "#Verificar\n",
    "#Comprobar con la fecha de particion agregada\n",
    "path_lectura=\"C://Users//walbi//Documents//clientes//MOVIMIENTOS//fecha=2022-04-02\"\n",
    "df_movimientos_diario_y = spark.read.option(\"header\", True).option(\"basePath\", path_lectura[:path_lectura.rfind(\"/\")]).csv(path_lectura)\n",
    "df_movimientos_diario_y.show()"
   ]
  },
  {
   "cell_type": "code",
   "execution_count": null,
   "id": "1612ded0",
   "metadata": {},
   "outputs": [],
   "source": [
    "################################## Append Sin Particion"
   ]
  },
  {
   "cell_type": "code",
   "execution_count": 42,
   "id": "3a577b0f",
   "metadata": {},
   "outputs": [
    {
     "name": "stdout",
     "output_type": "stream",
     "text": [
      "+--------+--------+----------+\n",
      "|dni     |saldo   |fecha     |\n",
      "+--------+--------+----------+\n",
      "|29999999|10000.0 |2022-03-27|\n",
      "|28888888|450.0   |2022-03-27|\n",
      "|29999999|500.0   |2022-03-28|\n",
      "|28888888|400.0   |2022-03-28|\n",
      "|29999999|450.0   |2022-03-29|\n",
      "|28888888|350.0   |2022-03-29|\n",
      "|29999999|400.0   |2022-03-30|\n",
      "|28888888|300.0   |2022-03-30|\n",
      "|29999999|400.0   |2022-03-31|\n",
      "|28888888|300.0   |2022-03-31|\n",
      "|29999999|400.0   |2022-04-01|\n",
      "|28888888|100000.0|2022-04-01|\n",
      "+--------+--------+----------+\n",
      "\n"
     ]
    }
   ],
   "source": [
    "df_movimientos.show(25,False)"
   ]
  },
  {
   "cell_type": "code",
   "execution_count": 43,
   "id": "ded00bea",
   "metadata": {},
   "outputs": [],
   "source": [
    "# Conserva historico\n",
    "df_movimientos.write.option(\"header\",True) \\\n",
    "        .mode(\"append\") \\\n",
    "        .csv(path_escritura + r\"\\MOVIMIENTOS_SIN_PARTICION\")"
   ]
  },
  {
   "cell_type": "code",
   "execution_count": 44,
   "id": "a1d2e844",
   "metadata": {},
   "outputs": [
    {
     "name": "stdout",
     "output_type": "stream",
     "text": [
      "+--------+--------+----------+\n",
      "|     dni|   saldo|     fecha|\n",
      "+--------+--------+----------+\n",
      "|29999999| 10000.0|2022-03-27|\n",
      "|28888888|   450.0|2022-03-27|\n",
      "|29999999|   500.0|2022-03-28|\n",
      "|28888888|   400.0|2022-03-28|\n",
      "|29999999|   450.0|2022-03-29|\n",
      "|28888888|   350.0|2022-03-29|\n",
      "|29999999|   400.0|2022-03-30|\n",
      "|28888888|   300.0|2022-03-30|\n",
      "|29999999|   400.0|2022-03-31|\n",
      "|28888888|   300.0|2022-03-31|\n",
      "|29999999|   400.0|2022-04-01|\n",
      "|28888888|100000.0|2022-04-01|\n",
      "+--------+--------+----------+\n",
      "\n"
     ]
    }
   ],
   "source": [
    "#Comprobar\n",
    "df_movimientos_x=spark.read.option(\"header\", True).csv(path_escritura+r\"\\MOVIMIENTOS_SIN_PARTICION\\*\")\n",
    "df_movimientos_x.show(50)"
   ]
  },
  {
   "cell_type": "code",
   "execution_count": 45,
   "id": "a50d1178",
   "metadata": {},
   "outputs": [],
   "source": [
    "# 2 Escritura Conserva historico\n",
    "df_movimientos.write.option(\"header\",True) \\\n",
    "        .mode(\"append\") \\\n",
    "        .csv(path_escritura + r\"\\MOVIMIENTOS_SIN_PARTICION\")"
   ]
  },
  {
   "cell_type": "code",
   "execution_count": 46,
   "id": "dd25f672",
   "metadata": {},
   "outputs": [
    {
     "name": "stdout",
     "output_type": "stream",
     "text": [
      "+--------+--------+----------+\n",
      "|     dni|   saldo|     fecha|\n",
      "+--------+--------+----------+\n",
      "|29999999| 10000.0|2022-03-27|\n",
      "|28888888|   450.0|2022-03-27|\n",
      "|29999999|   500.0|2022-03-28|\n",
      "|28888888|   400.0|2022-03-28|\n",
      "|29999999|   450.0|2022-03-29|\n",
      "|28888888|   350.0|2022-03-29|\n",
      "|29999999|   400.0|2022-03-30|\n",
      "|28888888|   300.0|2022-03-30|\n",
      "|29999999|   400.0|2022-03-31|\n",
      "|28888888|   300.0|2022-03-31|\n",
      "|29999999|   400.0|2022-04-01|\n",
      "|28888888|100000.0|2022-04-01|\n",
      "|29999999| 10000.0|2022-03-27|\n",
      "|28888888|   450.0|2022-03-27|\n",
      "|29999999|   500.0|2022-03-28|\n",
      "|28888888|   400.0|2022-03-28|\n",
      "|29999999|   450.0|2022-03-29|\n",
      "|28888888|   350.0|2022-03-29|\n",
      "|29999999|   400.0|2022-03-30|\n",
      "|28888888|   300.0|2022-03-30|\n",
      "|29999999|   400.0|2022-03-31|\n",
      "|28888888|   300.0|2022-03-31|\n",
      "|29999999|   400.0|2022-04-01|\n",
      "|28888888|100000.0|2022-04-01|\n",
      "+--------+--------+----------+\n",
      "\n"
     ]
    }
   ],
   "source": [
    "#Comprobar\n",
    "df_movimientos_x=spark.read.option(\"header\", True).csv(path_escritura+r\"\\MOVIMIENTOS_SIN_PARTICION\\*\")\n",
    "df_movimientos_x.show(50)"
   ]
  },
  {
   "cell_type": "code",
   "execution_count": 52,
   "id": "9d874344",
   "metadata": {},
   "outputs": [
    {
     "name": "stdout",
     "output_type": "stream",
     "text": [
      "+------------+----------+-----+\n",
      "|DEPARTAMENTO|CUTOFFDATE|count|\n",
      "+------------+----------+-----+\n",
      "|    AMAZONAS|2022-04-27|   81|\n",
      "|    AMAZONAS|2022-04-28|   81|\n",
      "+------------+----------+-----+\n",
      "\n"
     ]
    }
   ],
   "source": [
    "################################## 2.3. Con dos particiones DEPARTAMENTO Y FECHA DE CORTE\n",
    "path_lectura=\"C://Users//walbi//Documents//clientes//DEPARTAMENTOS_FECHAS//DEPARTAMENTO=*\"\n",
    "df_departamentos_fechas = spark.read.option(\"header\", True).option(\"basePath\", path_lectura[:path_lectura.rfind(\"/\")]).csv(path_lectura)\n",
    "df_departamentos_fechas.groupBy('DEPARTAMENTO','CUTOFFDATE').count().show()"
   ]
  },
  {
   "cell_type": "code",
   "execution_count": 75,
   "id": "0b6402e5",
   "metadata": {},
   "outputs": [
    {
     "name": "stdout",
     "output_type": "stream",
     "text": [
      "+------+----------------------+-----------+------------+------------+------------+----------+\n",
      "|UBIGEO|DISTRITO              |PROVINCIA  |LATITUD     |LONGITUD    |DEPARTAMENTO|CUTOFFDATE|\n",
      "+------+----------------------+-----------+------------+------------+------------+----------+\n",
      "|010302|CHISQUILLA            |BONGARA    |-5.89320537 |-77.78280858|AMAZONAS    |2022-04-28|\n",
      "|010506|INGUILPATA            |LUYA       |-6.258934402|-77.98439636|AMAZONAS    |2022-04-28|\n",
      "|010109|LA JALCA              |CHACHAPOYAS|-6.494380988|-77.81444726|AMAZONAS    |2022-04-28|\n",
      "|010519|SAN JUAN DE LOPECANCHA|LUYA       |-6.505552496|-77.87023054|AMAZONAS    |2022-04-28|\n",
      "|010110|LEIMEBAMBA            |CHACHAPOYAS|-6.689430658|-77.80252659|AMAZONAS    |2022-04-28|\n",
      "+------+----------------------+-----------+------------+------------+------------+----------+\n",
      "only showing top 5 rows\n",
      "\n"
     ]
    }
   ],
   "source": [
    "# Particion especifica departamento de Amazonas y fecha de Corte 2022-04-28\n",
    "path_lectura=\"C://Users//walbi//Documents//clientes//DEPARTAMENTOS_FECHAS//DEPARTAMENTO=AMAZONAS//CUTOFFDATE=2022-04-28\"\n",
    "df_departamentos_fechas = spark.read.option(\"header\", True).option(\"basePath\", path_lectura[:path_lectura.rfind(\"/\",0,-23)]).csv(path_lectura)\n",
    "df_departamentos_fechas.show(5,False)"
   ]
  },
  {
   "cell_type": "code",
   "execution_count": 72,
   "id": "56c1dc9a",
   "metadata": {},
   "outputs": [
    {
     "name": "stdout",
     "output_type": "stream",
     "text": [
      "+------------+----------+-----+\n",
      "|DEPARTAMENTO|CUTOFFDATE|count|\n",
      "+------------+----------+-----+\n",
      "|    AMAZONAS|2022-04-28|   81|\n",
      "+------------+----------+-----+\n",
      "\n"
     ]
    }
   ],
   "source": [
    "df_departamentos_fechas.groupBy('DEPARTAMENTO','CUTOFFDATE').count().show()"
   ]
  },
  {
   "cell_type": "code",
   "execution_count": 74,
   "id": "a4f20ada",
   "metadata": {},
   "outputs": [
    {
     "name": "stdout",
     "output_type": "stream",
     "text": [
      "+------+----------------------+-----------+------------+------------+------------+----------+-------------------+\n",
      "|UBIGEO|DISTRITO              |PROVINCIA  |LATITUD     |LONGITUD    |DEPARTAMENTO|CUTOFFDATE|FECHA_PROCESAMIENTO|\n",
      "+------+----------------------+-----------+------------+------------+------------+----------+-------------------+\n",
      "|010302|CHISQUILLA            |BONGARA    |-5.89320537 |-77.78280858|AMAZONAS    |2022-04-28|2022-05-11         |\n",
      "|010506|INGUILPATA            |LUYA       |-6.258934402|-77.98439636|AMAZONAS    |2022-04-28|2022-05-11         |\n",
      "|010109|LA JALCA              |CHACHAPOYAS|-6.494380988|-77.81444726|AMAZONAS    |2022-04-28|2022-05-11         |\n",
      "|010519|SAN JUAN DE LOPECANCHA|LUYA       |-6.505552496|-77.87023054|AMAZONAS    |2022-04-28|2022-05-11         |\n",
      "|010110|LEIMEBAMBA            |CHACHAPOYAS|-6.689430658|-77.80252659|AMAZONAS    |2022-04-28|2022-05-11         |\n",
      "+------+----------------------+-----------+------------+------------+------------+----------+-------------------+\n",
      "only showing top 5 rows\n",
      "\n"
     ]
    }
   ],
   "source": [
    "# Adicionar Fecha de procesamiento\n",
    "df_departamentos_fechas=df_departamentos_fechas.withColumn('FECHA_PROCESAMIENTO',current_date())\n",
    "df_departamentos_fechas.show(5,False)"
   ]
  }
 ],
 "metadata": {
  "kernelspec": {
   "display_name": "Python 3 (ipykernel)",
   "language": "python",
   "name": "python3"
  },
  "language_info": {
   "codemirror_mode": {
    "name": "ipython",
    "version": 3
   },
   "file_extension": ".py",
   "mimetype": "text/x-python",
   "name": "python",
   "nbconvert_exporter": "python",
   "pygments_lexer": "ipython3",
   "version": "3.9.7"
  }
 },
 "nbformat": 4,
 "nbformat_minor": 5
}
